{
  "nbformat": 4,
  "nbformat_minor": 0,
  "metadata": {
    "colab": {
      "name": "file.ipynb",
      "provenance": [],
      "collapsed_sections": []
    },
    "kernelspec": {
      "name": "python3",
      "display_name": "Python 3"
    },
    "language_info": {
      "name": "python"
    }
  },
  "cells": [
    {
      "cell_type": "code",
      "metadata": {
        "id": "jzYZrSACpPZs"
      },
      "source": [
        "import pandas as pd\n",
        "import numpy as np\n",
        "import sklearn\n",
        "import matplotlib as plt\n",
        "import seaborn as sns\n",
        "import plotly.express as px"
      ],
      "execution_count": 2,
      "outputs": []
    },
    {
      "cell_type": "code",
      "metadata": {
        "id": "OIBctFDdqpkR"
      },
      "source": [
        "train_data = pd.read_csv('data/train_dataset.csv')\n",
        "test_data = pd.read_csv('data/test_dataset.csv')"
      ],
      "execution_count": 3,
      "outputs": []
    },
    {
      "cell_type": "code",
      "metadata": {
        "colab": {
          "base_uri": "https://localhost:8080/",
          "height": 224
        },
        "id": "x6IkaEVisA9f",
        "outputId": "b80ec977-3879-4cee-dfe2-57d13dbb3a3c"
      },
      "source": [
        "train_data.head()"
      ],
      "execution_count": 4,
      "outputs": [
        {
          "output_type": "execute_result",
          "data": {
            "text/html": [
              "<div>\n",
              "<style scoped>\n",
              "    .dataframe tbody tr th:only-of-type {\n",
              "        vertical-align: middle;\n",
              "    }\n",
              "\n",
              "    .dataframe tbody tr th {\n",
              "        vertical-align: top;\n",
              "    }\n",
              "\n",
              "    .dataframe thead th {\n",
              "        text-align: right;\n",
              "    }\n",
              "</style>\n",
              "<table border=\"1\" class=\"dataframe\">\n",
              "  <thead>\n",
              "    <tr style=\"text-align: right;\">\n",
              "      <th></th>\n",
              "      <th>UserID</th>\n",
              "      <th>Gender</th>\n",
              "      <th>NationalITy</th>\n",
              "      <th>PlaceofBirth</th>\n",
              "      <th>StageID</th>\n",
              "      <th>GradeID</th>\n",
              "      <th>SectionID</th>\n",
              "      <th>Topic</th>\n",
              "      <th>Semester</th>\n",
              "      <th>Relation</th>\n",
              "      <th>raisedhands</th>\n",
              "      <th>VisITedResources</th>\n",
              "      <th>AnnouncementsView</th>\n",
              "      <th>Discussion</th>\n",
              "      <th>ParentAnsweringSurvey</th>\n",
              "      <th>ParentschoolSatisfaction</th>\n",
              "      <th>StudentAbsenceDays</th>\n",
              "      <th>TotalGrade</th>\n",
              "    </tr>\n",
              "  </thead>\n",
              "  <tbody>\n",
              "    <tr>\n",
              "      <th>0</th>\n",
              "      <td>346</td>\n",
              "      <td>F</td>\n",
              "      <td>Jordan</td>\n",
              "      <td>Jordan</td>\n",
              "      <td>lowerlevel</td>\n",
              "      <td>G-02</td>\n",
              "      <td>B</td>\n",
              "      <td>French</td>\n",
              "      <td>S</td>\n",
              "      <td>NaN</td>\n",
              "      <td>24.0</td>\n",
              "      <td>97</td>\n",
              "      <td>15</td>\n",
              "      <td>14</td>\n",
              "      <td>No</td>\n",
              "      <td>Good</td>\n",
              "      <td>Under-7</td>\n",
              "      <td>H</td>\n",
              "    </tr>\n",
              "    <tr>\n",
              "      <th>1</th>\n",
              "      <td>150</td>\n",
              "      <td>M</td>\n",
              "      <td>SaudiArabia</td>\n",
              "      <td>SaudiArabia</td>\n",
              "      <td>HighSchool</td>\n",
              "      <td>G-11</td>\n",
              "      <td>A</td>\n",
              "      <td>Quran</td>\n",
              "      <td>S</td>\n",
              "      <td>Father</td>\n",
              "      <td>NaN</td>\n",
              "      <td>80</td>\n",
              "      <td>51</td>\n",
              "      <td>59</td>\n",
              "      <td>Yes</td>\n",
              "      <td>Good</td>\n",
              "      <td>Under-7</td>\n",
              "      <td>H</td>\n",
              "    </tr>\n",
              "    <tr>\n",
              "      <th>2</th>\n",
              "      <td>314</td>\n",
              "      <td>F</td>\n",
              "      <td>Jordan</td>\n",
              "      <td>lebanon</td>\n",
              "      <td>lowerlevel</td>\n",
              "      <td>G-04</td>\n",
              "      <td>B</td>\n",
              "      <td>Science</td>\n",
              "      <td>F</td>\n",
              "      <td>Mum</td>\n",
              "      <td>78.0</td>\n",
              "      <td>88</td>\n",
              "      <td>74</td>\n",
              "      <td>83</td>\n",
              "      <td>Yes</td>\n",
              "      <td>Good</td>\n",
              "      <td>Under-7</td>\n",
              "      <td>H</td>\n",
              "    </tr>\n",
              "    <tr>\n",
              "      <th>3</th>\n",
              "      <td>306</td>\n",
              "      <td>M</td>\n",
              "      <td>Jordan</td>\n",
              "      <td>Jordan</td>\n",
              "      <td>lowerlevel</td>\n",
              "      <td>G-04</td>\n",
              "      <td>B</td>\n",
              "      <td>Science</td>\n",
              "      <td>F</td>\n",
              "      <td>NaN</td>\n",
              "      <td>65.0</td>\n",
              "      <td>59</td>\n",
              "      <td>74</td>\n",
              "      <td>83</td>\n",
              "      <td>Yes</td>\n",
              "      <td>Good</td>\n",
              "      <td>Under-7</td>\n",
              "      <td>H</td>\n",
              "    </tr>\n",
              "    <tr>\n",
              "      <th>4</th>\n",
              "      <td>191</td>\n",
              "      <td>M</td>\n",
              "      <td>KW</td>\n",
              "      <td>KuwaIT</td>\n",
              "      <td>MiddleSchool</td>\n",
              "      <td>G-08</td>\n",
              "      <td>A</td>\n",
              "      <td>Arabic</td>\n",
              "      <td>S</td>\n",
              "      <td>Father</td>\n",
              "      <td>15.0</td>\n",
              "      <td>25</td>\n",
              "      <td>37</td>\n",
              "      <td>13</td>\n",
              "      <td>Yes</td>\n",
              "      <td>Good</td>\n",
              "      <td>Above-7</td>\n",
              "      <td>L</td>\n",
              "    </tr>\n",
              "  </tbody>\n",
              "</table>\n",
              "</div>"
            ],
            "text/plain": [
              "   UserID Gender  ... StudentAbsenceDays TotalGrade\n",
              "0     346      F  ...            Under-7          H\n",
              "1     150      M  ...            Under-7          H\n",
              "2     314      F  ...            Under-7          H\n",
              "3     306      M  ...            Under-7          H\n",
              "4     191      M  ...            Above-7          L\n",
              "\n",
              "[5 rows x 18 columns]"
            ]
          },
          "metadata": {
            "tags": []
          },
          "execution_count": 4
        }
      ]
    },
    {
      "cell_type": "code",
      "metadata": {
        "colab": {
          "base_uri": "https://localhost:8080/"
        },
        "id": "IRlgIQ4rsBG2",
        "outputId": "fd15a9b8-f80e-459d-d079-d70501dadd1c"
      },
      "source": [
        "train_data.shape"
      ],
      "execution_count": 5,
      "outputs": [
        {
          "output_type": "execute_result",
          "data": {
            "text/plain": [
              "(384, 18)"
            ]
          },
          "metadata": {
            "tags": []
          },
          "execution_count": 5
        }
      ]
    },
    {
      "cell_type": "code",
      "metadata": {
        "colab": {
          "base_uri": "https://localhost:8080/"
        },
        "id": "8NRQ_o_VsBMF",
        "outputId": "6f3d133f-6ef6-49d1-8664-6b7a44d0ee65"
      },
      "source": [
        "train_data.columns"
      ],
      "execution_count": 6,
      "outputs": [
        {
          "output_type": "execute_result",
          "data": {
            "text/plain": [
              "Index(['UserID', 'Gender', 'NationalITy', 'PlaceofBirth', 'StageID', 'GradeID',\n",
              "       'SectionID', 'Topic', 'Semester', 'Relation', 'raisedhands',\n",
              "       'VisITedResources', 'AnnouncementsView', 'Discussion',\n",
              "       'ParentAnsweringSurvey', 'ParentschoolSatisfaction',\n",
              "       'StudentAbsenceDays', 'TotalGrade'],\n",
              "      dtype='object')"
            ]
          },
          "metadata": {
            "tags": []
          },
          "execution_count": 6
        }
      ]
    },
    {
      "cell_type": "code",
      "metadata": {
        "colab": {
          "base_uri": "https://localhost:8080/",
          "height": 297
        },
        "id": "ZTaTgIzNsBPj",
        "outputId": "59f7ee54-015a-48da-e49b-7d05fc3fd11b"
      },
      "source": [
        "train_data.describe()"
      ],
      "execution_count": 7,
      "outputs": [
        {
          "output_type": "execute_result",
          "data": {
            "text/html": [
              "<div>\n",
              "<style scoped>\n",
              "    .dataframe tbody tr th:only-of-type {\n",
              "        vertical-align: middle;\n",
              "    }\n",
              "\n",
              "    .dataframe tbody tr th {\n",
              "        vertical-align: top;\n",
              "    }\n",
              "\n",
              "    .dataframe thead th {\n",
              "        text-align: right;\n",
              "    }\n",
              "</style>\n",
              "<table border=\"1\" class=\"dataframe\">\n",
              "  <thead>\n",
              "    <tr style=\"text-align: right;\">\n",
              "      <th></th>\n",
              "      <th>UserID</th>\n",
              "      <th>raisedhands</th>\n",
              "      <th>VisITedResources</th>\n",
              "      <th>AnnouncementsView</th>\n",
              "      <th>Discussion</th>\n",
              "    </tr>\n",
              "  </thead>\n",
              "  <tbody>\n",
              "    <tr>\n",
              "      <th>count</th>\n",
              "      <td>384.000000</td>\n",
              "      <td>297.000000</td>\n",
              "      <td>384.000000</td>\n",
              "      <td>384.000000</td>\n",
              "      <td>384.000000</td>\n",
              "    </tr>\n",
              "    <tr>\n",
              "      <th>mean</th>\n",
              "      <td>238.744792</td>\n",
              "      <td>47.363636</td>\n",
              "      <td>55.734375</td>\n",
              "      <td>38.117188</td>\n",
              "      <td>43.250000</td>\n",
              "    </tr>\n",
              "    <tr>\n",
              "      <th>std</th>\n",
              "      <td>136.831193</td>\n",
              "      <td>30.775052</td>\n",
              "      <td>32.860609</td>\n",
              "      <td>26.482258</td>\n",
              "      <td>27.341473</td>\n",
              "    </tr>\n",
              "    <tr>\n",
              "      <th>min</th>\n",
              "      <td>0.000000</td>\n",
              "      <td>0.000000</td>\n",
              "      <td>0.000000</td>\n",
              "      <td>0.000000</td>\n",
              "      <td>1.000000</td>\n",
              "    </tr>\n",
              "    <tr>\n",
              "      <th>25%</th>\n",
              "      <td>121.750000</td>\n",
              "      <td>17.000000</td>\n",
              "      <td>20.000000</td>\n",
              "      <td>14.000000</td>\n",
              "      <td>20.000000</td>\n",
              "    </tr>\n",
              "    <tr>\n",
              "      <th>50%</th>\n",
              "      <td>238.500000</td>\n",
              "      <td>50.000000</td>\n",
              "      <td>69.000000</td>\n",
              "      <td>33.500000</td>\n",
              "      <td>39.000000</td>\n",
              "    </tr>\n",
              "    <tr>\n",
              "      <th>75%</th>\n",
              "      <td>356.250000</td>\n",
              "      <td>75.000000</td>\n",
              "      <td>85.250000</td>\n",
              "      <td>58.000000</td>\n",
              "      <td>70.000000</td>\n",
              "    </tr>\n",
              "    <tr>\n",
              "      <th>max</th>\n",
              "      <td>479.000000</td>\n",
              "      <td>100.000000</td>\n",
              "      <td>99.000000</td>\n",
              "      <td>98.000000</td>\n",
              "      <td>98.000000</td>\n",
              "    </tr>\n",
              "  </tbody>\n",
              "</table>\n",
              "</div>"
            ],
            "text/plain": [
              "           UserID  raisedhands  VisITedResources  AnnouncementsView  Discussion\n",
              "count  384.000000   297.000000        384.000000         384.000000  384.000000\n",
              "mean   238.744792    47.363636         55.734375          38.117188   43.250000\n",
              "std    136.831193    30.775052         32.860609          26.482258   27.341473\n",
              "min      0.000000     0.000000          0.000000           0.000000    1.000000\n",
              "25%    121.750000    17.000000         20.000000          14.000000   20.000000\n",
              "50%    238.500000    50.000000         69.000000          33.500000   39.000000\n",
              "75%    356.250000    75.000000         85.250000          58.000000   70.000000\n",
              "max    479.000000   100.000000         99.000000          98.000000   98.000000"
            ]
          },
          "metadata": {
            "tags": []
          },
          "execution_count": 7
        }
      ]
    },
    {
      "cell_type": "code",
      "metadata": {
        "colab": {
          "base_uri": "https://localhost:8080/"
        },
        "id": "LXSR2CYu0Cvn",
        "outputId": "ed59238d-7b62-4260-be49-90772b34e2ee"
      },
      "source": [
        "train_data.info()"
      ],
      "execution_count": 8,
      "outputs": [
        {
          "output_type": "stream",
          "text": [
            "<class 'pandas.core.frame.DataFrame'>\n",
            "RangeIndex: 384 entries, 0 to 383\n",
            "Data columns (total 18 columns):\n",
            " #   Column                    Non-Null Count  Dtype  \n",
            "---  ------                    --------------  -----  \n",
            " 0   UserID                    384 non-null    int64  \n",
            " 1   Gender                    384 non-null    object \n",
            " 2   NationalITy               384 non-null    object \n",
            " 3   PlaceofBirth              384 non-null    object \n",
            " 4   StageID                   384 non-null    object \n",
            " 5   GradeID                   384 non-null    object \n",
            " 6   SectionID                 384 non-null    object \n",
            " 7   Topic                     384 non-null    object \n",
            " 8   Semester                  384 non-null    object \n",
            " 9   Relation                  264 non-null    object \n",
            " 10  raisedhands               297 non-null    float64\n",
            " 11  VisITedResources          384 non-null    int64  \n",
            " 12  AnnouncementsView         384 non-null    int64  \n",
            " 13  Discussion                384 non-null    int64  \n",
            " 14  ParentAnsweringSurvey     384 non-null    object \n",
            " 15  ParentschoolSatisfaction  384 non-null    object \n",
            " 16  StudentAbsenceDays        359 non-null    object \n",
            " 17  TotalGrade                384 non-null    object \n",
            "dtypes: float64(1), int64(4), object(13)\n",
            "memory usage: 54.1+ KB\n"
          ],
          "name": "stdout"
        }
      ]
    },
    {
      "cell_type": "code",
      "metadata": {
        "colab": {
          "base_uri": "https://localhost:8080/"
        },
        "id": "EhfBXRcysBS6",
        "outputId": "6a1a0e68-cbab-4528-e987-3863366adb96"
      },
      "source": [
        "train_data.isna().sum()"
      ],
      "execution_count": 9,
      "outputs": [
        {
          "output_type": "execute_result",
          "data": {
            "text/plain": [
              "UserID                        0\n",
              "Gender                        0\n",
              "NationalITy                   0\n",
              "PlaceofBirth                  0\n",
              "StageID                       0\n",
              "GradeID                       0\n",
              "SectionID                     0\n",
              "Topic                         0\n",
              "Semester                      0\n",
              "Relation                    120\n",
              "raisedhands                  87\n",
              "VisITedResources              0\n",
              "AnnouncementsView             0\n",
              "Discussion                    0\n",
              "ParentAnsweringSurvey         0\n",
              "ParentschoolSatisfaction      0\n",
              "StudentAbsenceDays           25\n",
              "TotalGrade                    0\n",
              "dtype: int64"
            ]
          },
          "metadata": {
            "tags": []
          },
          "execution_count": 9
        }
      ]
    },
    {
      "cell_type": "code",
      "metadata": {
        "colab": {
          "base_uri": "https://localhost:8080/"
        },
        "id": "mgYpu1ZMsBYj",
        "outputId": "67795e8a-c5c3-41dc-f461-92f984ea0a10"
      },
      "source": [
        "test_data.isna().sum()"
      ],
      "execution_count": 10,
      "outputs": [
        {
          "output_type": "execute_result",
          "data": {
            "text/plain": [
              "UserID                       0\n",
              "Gender                       0\n",
              "NationalITy                  0\n",
              "PlaceofBirth                 0\n",
              "StageID                      0\n",
              "GradeID                      0\n",
              "SectionID                    0\n",
              "Topic                        0\n",
              "Semester                     0\n",
              "Relation                    25\n",
              "raisedhands                 21\n",
              "VisITedResources             0\n",
              "AnnouncementsView            0\n",
              "Discussion                   0\n",
              "ParentAnsweringSurvey        0\n",
              "ParentschoolSatisfaction     0\n",
              "StudentAbsenceDays           7\n",
              "dtype: int64"
            ]
          },
          "metadata": {
            "tags": []
          },
          "execution_count": 10
        }
      ]
    },
    {
      "cell_type": "code",
      "metadata": {
        "colab": {
          "base_uri": "https://localhost:8080/",
          "height": 439
        },
        "id": "5pftV4sk6LGW",
        "outputId": "408374f6-7800-4097-d507-f90489b986bf"
      },
      "source": [
        "test_data"
      ],
      "execution_count": 11,
      "outputs": [
        {
          "output_type": "execute_result",
          "data": {
            "text/html": [
              "<div>\n",
              "<style scoped>\n",
              "    .dataframe tbody tr th:only-of-type {\n",
              "        vertical-align: middle;\n",
              "    }\n",
              "\n",
              "    .dataframe tbody tr th {\n",
              "        vertical-align: top;\n",
              "    }\n",
              "\n",
              "    .dataframe thead th {\n",
              "        text-align: right;\n",
              "    }\n",
              "</style>\n",
              "<table border=\"1\" class=\"dataframe\">\n",
              "  <thead>\n",
              "    <tr style=\"text-align: right;\">\n",
              "      <th></th>\n",
              "      <th>UserID</th>\n",
              "      <th>Gender</th>\n",
              "      <th>NationalITy</th>\n",
              "      <th>PlaceofBirth</th>\n",
              "      <th>StageID</th>\n",
              "      <th>GradeID</th>\n",
              "      <th>SectionID</th>\n",
              "      <th>Topic</th>\n",
              "      <th>Semester</th>\n",
              "      <th>Relation</th>\n",
              "      <th>raisedhands</th>\n",
              "      <th>VisITedResources</th>\n",
              "      <th>AnnouncementsView</th>\n",
              "      <th>Discussion</th>\n",
              "      <th>ParentAnsweringSurvey</th>\n",
              "      <th>ParentschoolSatisfaction</th>\n",
              "      <th>StudentAbsenceDays</th>\n",
              "    </tr>\n",
              "  </thead>\n",
              "  <tbody>\n",
              "    <tr>\n",
              "      <th>0</th>\n",
              "      <td>406</td>\n",
              "      <td>M</td>\n",
              "      <td>Jordan</td>\n",
              "      <td>Jordan</td>\n",
              "      <td>MiddleSchool</td>\n",
              "      <td>G-07</td>\n",
              "      <td>A</td>\n",
              "      <td>Biology</td>\n",
              "      <td>F</td>\n",
              "      <td>Mum</td>\n",
              "      <td>2.0</td>\n",
              "      <td>9</td>\n",
              "      <td>10</td>\n",
              "      <td>1</td>\n",
              "      <td>No</td>\n",
              "      <td>Bad</td>\n",
              "      <td>Above-7</td>\n",
              "    </tr>\n",
              "    <tr>\n",
              "      <th>1</th>\n",
              "      <td>426</td>\n",
              "      <td>M</td>\n",
              "      <td>Jordan</td>\n",
              "      <td>Jordan</td>\n",
              "      <td>MiddleSchool</td>\n",
              "      <td>G-08</td>\n",
              "      <td>A</td>\n",
              "      <td>Chemistry</td>\n",
              "      <td>F</td>\n",
              "      <td>Mum</td>\n",
              "      <td>NaN</td>\n",
              "      <td>80</td>\n",
              "      <td>62</td>\n",
              "      <td>11</td>\n",
              "      <td>Yes</td>\n",
              "      <td>Good</td>\n",
              "      <td>Above-7</td>\n",
              "    </tr>\n",
              "    <tr>\n",
              "      <th>2</th>\n",
              "      <td>348</td>\n",
              "      <td>M</td>\n",
              "      <td>Lybia</td>\n",
              "      <td>Lybia</td>\n",
              "      <td>lowerlevel</td>\n",
              "      <td>G-02</td>\n",
              "      <td>B</td>\n",
              "      <td>French</td>\n",
              "      <td>F</td>\n",
              "      <td>Mum</td>\n",
              "      <td>20.0</td>\n",
              "      <td>3</td>\n",
              "      <td>9</td>\n",
              "      <td>3</td>\n",
              "      <td>No</td>\n",
              "      <td>Good</td>\n",
              "      <td>Above-7</td>\n",
              "    </tr>\n",
              "    <tr>\n",
              "      <th>3</th>\n",
              "      <td>316</td>\n",
              "      <td>M</td>\n",
              "      <td>Jordan</td>\n",
              "      <td>Jordan</td>\n",
              "      <td>lowerlevel</td>\n",
              "      <td>G-02</td>\n",
              "      <td>A</td>\n",
              "      <td>French</td>\n",
              "      <td>F</td>\n",
              "      <td>Mum</td>\n",
              "      <td>60.0</td>\n",
              "      <td>92</td>\n",
              "      <td>83</td>\n",
              "      <td>23</td>\n",
              "      <td>Yes</td>\n",
              "      <td>Good</td>\n",
              "      <td>Under-7</td>\n",
              "    </tr>\n",
              "    <tr>\n",
              "      <th>4</th>\n",
              "      <td>293</td>\n",
              "      <td>F</td>\n",
              "      <td>Palestine</td>\n",
              "      <td>Palestine</td>\n",
              "      <td>lowerlevel</td>\n",
              "      <td>G-04</td>\n",
              "      <td>A</td>\n",
              "      <td>Science</td>\n",
              "      <td>S</td>\n",
              "      <td>Mum</td>\n",
              "      <td>62.0</td>\n",
              "      <td>64</td>\n",
              "      <td>72</td>\n",
              "      <td>84</td>\n",
              "      <td>Yes</td>\n",
              "      <td>Good</td>\n",
              "      <td>Under-7</td>\n",
              "    </tr>\n",
              "    <tr>\n",
              "      <th>...</th>\n",
              "      <td>...</td>\n",
              "      <td>...</td>\n",
              "      <td>...</td>\n",
              "      <td>...</td>\n",
              "      <td>...</td>\n",
              "      <td>...</td>\n",
              "      <td>...</td>\n",
              "      <td>...</td>\n",
              "      <td>...</td>\n",
              "      <td>...</td>\n",
              "      <td>...</td>\n",
              "      <td>...</td>\n",
              "      <td>...</td>\n",
              "      <td>...</td>\n",
              "      <td>...</td>\n",
              "      <td>...</td>\n",
              "      <td>...</td>\n",
              "    </tr>\n",
              "    <tr>\n",
              "      <th>91</th>\n",
              "      <td>395</td>\n",
              "      <td>M</td>\n",
              "      <td>Jordan</td>\n",
              "      <td>Palestine</td>\n",
              "      <td>MiddleSchool</td>\n",
              "      <td>G-07</td>\n",
              "      <td>A</td>\n",
              "      <td>Biology</td>\n",
              "      <td>S</td>\n",
              "      <td>NaN</td>\n",
              "      <td>70.0</td>\n",
              "      <td>98</td>\n",
              "      <td>54</td>\n",
              "      <td>72</td>\n",
              "      <td>Yes</td>\n",
              "      <td>Good</td>\n",
              "      <td>Under-7</td>\n",
              "    </tr>\n",
              "    <tr>\n",
              "      <th>92</th>\n",
              "      <td>326</td>\n",
              "      <td>M</td>\n",
              "      <td>Jordan</td>\n",
              "      <td>Jordan</td>\n",
              "      <td>lowerlevel</td>\n",
              "      <td>G-02</td>\n",
              "      <td>A</td>\n",
              "      <td>French</td>\n",
              "      <td>F</td>\n",
              "      <td>NaN</td>\n",
              "      <td>10.0</td>\n",
              "      <td>15</td>\n",
              "      <td>10</td>\n",
              "      <td>21</td>\n",
              "      <td>No</td>\n",
              "      <td>Bad</td>\n",
              "      <td>Above-7</td>\n",
              "    </tr>\n",
              "    <tr>\n",
              "      <th>93</th>\n",
              "      <td>128</td>\n",
              "      <td>M</td>\n",
              "      <td>KW</td>\n",
              "      <td>KuwaIT</td>\n",
              "      <td>lowerlevel</td>\n",
              "      <td>G-02</td>\n",
              "      <td>C</td>\n",
              "      <td>IT</td>\n",
              "      <td>F</td>\n",
              "      <td>Father</td>\n",
              "      <td>12.0</td>\n",
              "      <td>10</td>\n",
              "      <td>20</td>\n",
              "      <td>16</td>\n",
              "      <td>No</td>\n",
              "      <td>Bad</td>\n",
              "      <td>Under-7</td>\n",
              "    </tr>\n",
              "    <tr>\n",
              "      <th>94</th>\n",
              "      <td>427</td>\n",
              "      <td>M</td>\n",
              "      <td>Jordan</td>\n",
              "      <td>Jordan</td>\n",
              "      <td>MiddleSchool</td>\n",
              "      <td>G-08</td>\n",
              "      <td>A</td>\n",
              "      <td>Chemistry</td>\n",
              "      <td>S</td>\n",
              "      <td>NaN</td>\n",
              "      <td>81.0</td>\n",
              "      <td>82</td>\n",
              "      <td>69</td>\n",
              "      <td>13</td>\n",
              "      <td>Yes</td>\n",
              "      <td>Good</td>\n",
              "      <td>Above-7</td>\n",
              "    </tr>\n",
              "    <tr>\n",
              "      <th>95</th>\n",
              "      <td>41</td>\n",
              "      <td>M</td>\n",
              "      <td>KW</td>\n",
              "      <td>KuwaIT</td>\n",
              "      <td>MiddleSchool</td>\n",
              "      <td>G-07</td>\n",
              "      <td>A</td>\n",
              "      <td>IT</td>\n",
              "      <td>F</td>\n",
              "      <td>Father</td>\n",
              "      <td>19.0</td>\n",
              "      <td>20</td>\n",
              "      <td>16</td>\n",
              "      <td>50</td>\n",
              "      <td>No</td>\n",
              "      <td>Good</td>\n",
              "      <td>Under-7</td>\n",
              "    </tr>\n",
              "  </tbody>\n",
              "</table>\n",
              "<p>96 rows × 17 columns</p>\n",
              "</div>"
            ],
            "text/plain": [
              "    UserID Gender  ... ParentschoolSatisfaction StudentAbsenceDays\n",
              "0      406      M  ...                      Bad            Above-7\n",
              "1      426      M  ...                     Good            Above-7\n",
              "2      348      M  ...                     Good            Above-7\n",
              "3      316      M  ...                     Good            Under-7\n",
              "4      293      F  ...                     Good            Under-7\n",
              "..     ...    ...  ...                      ...                ...\n",
              "91     395      M  ...                     Good            Under-7\n",
              "92     326      M  ...                      Bad            Above-7\n",
              "93     128      M  ...                      Bad            Under-7\n",
              "94     427      M  ...                     Good            Above-7\n",
              "95      41      M  ...                     Good            Under-7\n",
              "\n",
              "[96 rows x 17 columns]"
            ]
          },
          "metadata": {
            "tags": []
          },
          "execution_count": 11
        }
      ]
    },
    {
      "cell_type": "code",
      "metadata": {
        "colab": {
          "base_uri": "https://localhost:8080/",
          "height": 297
        },
        "id": "0bTjO3hKsBes",
        "outputId": "7f735fe2-c5a5-44df-c122-73d0b403ad31"
      },
      "source": [
        "train_data[train_data['Gender'] == 'F'].describe()"
      ],
      "execution_count": 13,
      "outputs": [
        {
          "output_type": "execute_result",
          "data": {
            "text/html": [
              "<div>\n",
              "<style scoped>\n",
              "    .dataframe tbody tr th:only-of-type {\n",
              "        vertical-align: middle;\n",
              "    }\n",
              "\n",
              "    .dataframe tbody tr th {\n",
              "        vertical-align: top;\n",
              "    }\n",
              "\n",
              "    .dataframe thead th {\n",
              "        text-align: right;\n",
              "    }\n",
              "</style>\n",
              "<table border=\"1\" class=\"dataframe\">\n",
              "  <thead>\n",
              "    <tr style=\"text-align: right;\">\n",
              "      <th></th>\n",
              "      <th>UserID</th>\n",
              "      <th>raisedhands</th>\n",
              "      <th>VisITedResources</th>\n",
              "      <th>AnnouncementsView</th>\n",
              "      <th>Discussion</th>\n",
              "    </tr>\n",
              "  </thead>\n",
              "  <tbody>\n",
              "    <tr>\n",
              "      <th>count</th>\n",
              "      <td>141.000000</td>\n",
              "      <td>104.000000</td>\n",
              "      <td>141.000000</td>\n",
              "      <td>141.000000</td>\n",
              "      <td>141.000000</td>\n",
              "    </tr>\n",
              "    <tr>\n",
              "      <th>mean</th>\n",
              "      <td>257.680851</td>\n",
              "      <td>52.423077</td>\n",
              "      <td>64.354610</td>\n",
              "      <td>39.695035</td>\n",
              "      <td>47.191489</td>\n",
              "    </tr>\n",
              "    <tr>\n",
              "      <th>std</th>\n",
              "      <td>139.343477</td>\n",
              "      <td>30.322119</td>\n",
              "      <td>30.172867</td>\n",
              "      <td>25.924325</td>\n",
              "      <td>28.873595</td>\n",
              "    </tr>\n",
              "    <tr>\n",
              "      <th>min</th>\n",
              "      <td>5.000000</td>\n",
              "      <td>0.000000</td>\n",
              "      <td>0.000000</td>\n",
              "      <td>0.000000</td>\n",
              "      <td>2.000000</td>\n",
              "    </tr>\n",
              "    <tr>\n",
              "      <th>25%</th>\n",
              "      <td>130.000000</td>\n",
              "      <td>24.750000</td>\n",
              "      <td>42.000000</td>\n",
              "      <td>19.000000</td>\n",
              "      <td>21.000000</td>\n",
              "    </tr>\n",
              "    <tr>\n",
              "      <th>50%</th>\n",
              "      <td>282.000000</td>\n",
              "      <td>60.000000</td>\n",
              "      <td>79.000000</td>\n",
              "      <td>37.000000</td>\n",
              "      <td>43.000000</td>\n",
              "    </tr>\n",
              "    <tr>\n",
              "      <th>75%</th>\n",
              "      <td>369.000000</td>\n",
              "      <td>79.250000</td>\n",
              "      <td>88.000000</td>\n",
              "      <td>57.000000</td>\n",
              "      <td>74.000000</td>\n",
              "    </tr>\n",
              "    <tr>\n",
              "      <th>max</th>\n",
              "      <td>479.000000</td>\n",
              "      <td>100.000000</td>\n",
              "      <td>99.000000</td>\n",
              "      <td>98.000000</td>\n",
              "      <td>98.000000</td>\n",
              "    </tr>\n",
              "  </tbody>\n",
              "</table>\n",
              "</div>"
            ],
            "text/plain": [
              "           UserID  raisedhands  VisITedResources  AnnouncementsView  Discussion\n",
              "count  141.000000   104.000000        141.000000         141.000000  141.000000\n",
              "mean   257.680851    52.423077         64.354610          39.695035   47.191489\n",
              "std    139.343477    30.322119         30.172867          25.924325   28.873595\n",
              "min      5.000000     0.000000          0.000000           0.000000    2.000000\n",
              "25%    130.000000    24.750000         42.000000          19.000000   21.000000\n",
              "50%    282.000000    60.000000         79.000000          37.000000   43.000000\n",
              "75%    369.000000    79.250000         88.000000          57.000000   74.000000\n",
              "max    479.000000   100.000000         99.000000          98.000000   98.000000"
            ]
          },
          "metadata": {
            "tags": []
          },
          "execution_count": 13
        }
      ]
    },
    {
      "cell_type": "code",
      "metadata": {
        "colab": {
          "base_uri": "https://localhost:8080/",
          "height": 297
        },
        "id": "1Cd1ajeTwXtB",
        "outputId": "652a4f47-5c2c-4045-f1d9-df9119e2696b"
      },
      "source": [
        "train_data[train_data['Gender'] == 'M'].describe()"
      ],
      "execution_count": 14,
      "outputs": [
        {
          "output_type": "execute_result",
          "data": {
            "text/html": [
              "<div>\n",
              "<style scoped>\n",
              "    .dataframe tbody tr th:only-of-type {\n",
              "        vertical-align: middle;\n",
              "    }\n",
              "\n",
              "    .dataframe tbody tr th {\n",
              "        vertical-align: top;\n",
              "    }\n",
              "\n",
              "    .dataframe thead th {\n",
              "        text-align: right;\n",
              "    }\n",
              "</style>\n",
              "<table border=\"1\" class=\"dataframe\">\n",
              "  <thead>\n",
              "    <tr style=\"text-align: right;\">\n",
              "      <th></th>\n",
              "      <th>UserID</th>\n",
              "      <th>raisedhands</th>\n",
              "      <th>VisITedResources</th>\n",
              "      <th>AnnouncementsView</th>\n",
              "      <th>Discussion</th>\n",
              "    </tr>\n",
              "  </thead>\n",
              "  <tbody>\n",
              "    <tr>\n",
              "      <th>count</th>\n",
              "      <td>243.000000</td>\n",
              "      <td>193.000000</td>\n",
              "      <td>243.000000</td>\n",
              "      <td>243.000000</td>\n",
              "      <td>243.000000</td>\n",
              "    </tr>\n",
              "    <tr>\n",
              "      <th>mean</th>\n",
              "      <td>227.757202</td>\n",
              "      <td>44.637306</td>\n",
              "      <td>50.732510</td>\n",
              "      <td>37.201646</td>\n",
              "      <td>40.962963</td>\n",
              "    </tr>\n",
              "    <tr>\n",
              "      <th>std</th>\n",
              "      <td>134.419515</td>\n",
              "      <td>30.749713</td>\n",
              "      <td>33.374757</td>\n",
              "      <td>26.811025</td>\n",
              "      <td>26.201434</td>\n",
              "    </tr>\n",
              "    <tr>\n",
              "      <th>min</th>\n",
              "      <td>0.000000</td>\n",
              "      <td>0.000000</td>\n",
              "      <td>0.000000</td>\n",
              "      <td>0.000000</td>\n",
              "      <td>1.000000</td>\n",
              "    </tr>\n",
              "    <tr>\n",
              "      <th>25%</th>\n",
              "      <td>114.500000</td>\n",
              "      <td>15.000000</td>\n",
              "      <td>15.000000</td>\n",
              "      <td>12.000000</td>\n",
              "      <td>19.500000</td>\n",
              "    </tr>\n",
              "    <tr>\n",
              "      <th>50%</th>\n",
              "      <td>220.000000</td>\n",
              "      <td>40.000000</td>\n",
              "      <td>60.000000</td>\n",
              "      <td>33.000000</td>\n",
              "      <td>35.000000</td>\n",
              "    </tr>\n",
              "    <tr>\n",
              "      <th>75%</th>\n",
              "      <td>346.000000</td>\n",
              "      <td>73.000000</td>\n",
              "      <td>82.000000</td>\n",
              "      <td>58.000000</td>\n",
              "      <td>61.000000</td>\n",
              "    </tr>\n",
              "    <tr>\n",
              "      <th>max</th>\n",
              "      <td>473.000000</td>\n",
              "      <td>100.000000</td>\n",
              "      <td>98.000000</td>\n",
              "      <td>98.000000</td>\n",
              "      <td>98.000000</td>\n",
              "    </tr>\n",
              "  </tbody>\n",
              "</table>\n",
              "</div>"
            ],
            "text/plain": [
              "           UserID  raisedhands  VisITedResources  AnnouncementsView  Discussion\n",
              "count  243.000000   193.000000        243.000000         243.000000  243.000000\n",
              "mean   227.757202    44.637306         50.732510          37.201646   40.962963\n",
              "std    134.419515    30.749713         33.374757          26.811025   26.201434\n",
              "min      0.000000     0.000000          0.000000           0.000000    1.000000\n",
              "25%    114.500000    15.000000         15.000000          12.000000   19.500000\n",
              "50%    220.000000    40.000000         60.000000          33.000000   35.000000\n",
              "75%    346.000000    73.000000         82.000000          58.000000   61.000000\n",
              "max    473.000000   100.000000         98.000000          98.000000   98.000000"
            ]
          },
          "metadata": {
            "tags": []
          },
          "execution_count": 14
        }
      ]
    },
    {
      "cell_type": "code",
      "metadata": {
        "colab": {
          "base_uri": "https://localhost:8080/"
        },
        "id": "IjVPJvtnwjzr",
        "outputId": "5fb43a81-d364-41aa-fa83-7ab6626b1028"
      },
      "source": [
        "train_data[train_data['StudentAbsenceDays'] == 'Above-7']['TotalGrade']"
      ],
      "execution_count": 15,
      "outputs": [
        {
          "output_type": "execute_result",
          "data": {
            "text/plain": [
              "4      L\n",
              "5      M\n",
              "9      L\n",
              "10     L\n",
              "13     M\n",
              "      ..\n",
              "366    L\n",
              "370    L\n",
              "372    M\n",
              "373    L\n",
              "378    H\n",
              "Name: TotalGrade, Length: 138, dtype: object"
            ]
          },
          "metadata": {
            "tags": []
          },
          "execution_count": 15
        }
      ]
    },
    {
      "cell_type": "code",
      "metadata": {
        "id": "83eBTnIQ14ms"
      },
      "source": [
        "mapping_stage_ids = {'lowerlevel': 1,'HighSchool': 2,'MiddleSchool': 3}\n",
        "mapping_genders = {'F': 0,'M': 1}\n",
        "mapping_sections = {'A': 1,'B': 2,'C': 3}\n",
        "\n",
        "def get_clean_data(data):\n",
        "  data.StageID = [mapping_stage_ids.get(item) for item in data.StageID]\n",
        "  data.Gender = [mapping_genders.get(item) for item in data.Gender]\n",
        "  data.SectionID = [mapping_sections.get(item) for item in data.SectionID]\n",
        "\n",
        "  data.Relation[data.Relation == 'Father'] = 1\n",
        "  data.Relation[data.Relation == 'Mum'] = 2\n",
        "\n",
        "  data.Semester[data.Semester == 'S'] = 0\n",
        "  data.Semester[data.Semester == 'F'] = 1\n",
        "\n",
        "  data.ParentAnsweringSurvey[data.ParentAnsweringSurvey == 'No'] = 0\n",
        "  data.ParentAnsweringSurvey[data.ParentAnsweringSurvey == 'Yes'] = 1\n",
        "\n",
        "  data.StudentAbsenceDays[data.StudentAbsenceDays == 'Under-7'] = 0\n",
        "  data.StudentAbsenceDays[data.StudentAbsenceDays == 'Above-7'] = 1\n",
        "\n",
        "  data.ParentschoolSatisfaction[data.ParentschoolSatisfaction == 'Bad'] = 0\n",
        "  data.ParentschoolSatisfaction[data.ParentschoolSatisfaction == 'Good'] = 1\n",
        "  return data"
      ],
      "execution_count": 16,
      "outputs": []
    },
    {
      "cell_type": "code",
      "metadata": {
        "colab": {
          "base_uri": "https://localhost:8080/"
        },
        "id": "4M_Bf_mVTRMW",
        "outputId": "ff39d4f2-2add-4977-9833-f4107525ec52"
      },
      "source": [
        "mapping_grades = {'H': 1,'M': 2,'L': 3}\n",
        "train_data.TotalGrade = [mapping_grades.get(item) for item in train_data.TotalGrade]\n",
        "train_data = get_clean_data(train_data)"
      ],
      "execution_count": 17,
      "outputs": [
        {
          "output_type": "stream",
          "text": [
            "/usr/local/lib/python3.7/dist-packages/ipykernel_launcher.py:10: SettingWithCopyWarning:\n",
            "\n",
            "\n",
            "A value is trying to be set on a copy of a slice from a DataFrame\n",
            "\n",
            "See the caveats in the documentation: https://pandas.pydata.org/pandas-docs/stable/user_guide/indexing.html#returning-a-view-versus-a-copy\n",
            "\n",
            "/usr/local/lib/python3.7/dist-packages/ipykernel_launcher.py:11: SettingWithCopyWarning:\n",
            "\n",
            "\n",
            "A value is trying to be set on a copy of a slice from a DataFrame\n",
            "\n",
            "See the caveats in the documentation: https://pandas.pydata.org/pandas-docs/stable/user_guide/indexing.html#returning-a-view-versus-a-copy\n",
            "\n",
            "/usr/local/lib/python3.7/dist-packages/ipykernel_launcher.py:13: SettingWithCopyWarning:\n",
            "\n",
            "\n",
            "A value is trying to be set on a copy of a slice from a DataFrame\n",
            "\n",
            "See the caveats in the documentation: https://pandas.pydata.org/pandas-docs/stable/user_guide/indexing.html#returning-a-view-versus-a-copy\n",
            "\n",
            "/usr/local/lib/python3.7/dist-packages/ipykernel_launcher.py:14: SettingWithCopyWarning:\n",
            "\n",
            "\n",
            "A value is trying to be set on a copy of a slice from a DataFrame\n",
            "\n",
            "See the caveats in the documentation: https://pandas.pydata.org/pandas-docs/stable/user_guide/indexing.html#returning-a-view-versus-a-copy\n",
            "\n",
            "/usr/local/lib/python3.7/dist-packages/ipykernel_launcher.py:16: SettingWithCopyWarning:\n",
            "\n",
            "\n",
            "A value is trying to be set on a copy of a slice from a DataFrame\n",
            "\n",
            "See the caveats in the documentation: https://pandas.pydata.org/pandas-docs/stable/user_guide/indexing.html#returning-a-view-versus-a-copy\n",
            "\n",
            "/usr/local/lib/python3.7/dist-packages/ipykernel_launcher.py:17: SettingWithCopyWarning:\n",
            "\n",
            "\n",
            "A value is trying to be set on a copy of a slice from a DataFrame\n",
            "\n",
            "See the caveats in the documentation: https://pandas.pydata.org/pandas-docs/stable/user_guide/indexing.html#returning-a-view-versus-a-copy\n",
            "\n",
            "/usr/local/lib/python3.7/dist-packages/ipykernel_launcher.py:19: SettingWithCopyWarning:\n",
            "\n",
            "\n",
            "A value is trying to be set on a copy of a slice from a DataFrame\n",
            "\n",
            "See the caveats in the documentation: https://pandas.pydata.org/pandas-docs/stable/user_guide/indexing.html#returning-a-view-versus-a-copy\n",
            "\n",
            "/usr/local/lib/python3.7/dist-packages/ipykernel_launcher.py:20: SettingWithCopyWarning:\n",
            "\n",
            "\n",
            "A value is trying to be set on a copy of a slice from a DataFrame\n",
            "\n",
            "See the caveats in the documentation: https://pandas.pydata.org/pandas-docs/stable/user_guide/indexing.html#returning-a-view-versus-a-copy\n",
            "\n",
            "/usr/local/lib/python3.7/dist-packages/ipykernel_launcher.py:22: SettingWithCopyWarning:\n",
            "\n",
            "\n",
            "A value is trying to be set on a copy of a slice from a DataFrame\n",
            "\n",
            "See the caveats in the documentation: https://pandas.pydata.org/pandas-docs/stable/user_guide/indexing.html#returning-a-view-versus-a-copy\n",
            "\n",
            "/usr/local/lib/python3.7/dist-packages/ipykernel_launcher.py:23: SettingWithCopyWarning:\n",
            "\n",
            "\n",
            "A value is trying to be set on a copy of a slice from a DataFrame\n",
            "\n",
            "See the caveats in the documentation: https://pandas.pydata.org/pandas-docs/stable/user_guide/indexing.html#returning-a-view-versus-a-copy\n",
            "\n"
          ],
          "name": "stderr"
        }
      ]
    },
    {
      "cell_type": "code",
      "metadata": {
        "colab": {
          "base_uri": "https://localhost:8080/",
          "height": 224
        },
        "id": "7Qn1otl23obE",
        "outputId": "1a721004-2387-4aa5-e223-053cbd1fd850"
      },
      "source": [
        "train_data.head()"
      ],
      "execution_count": 18,
      "outputs": [
        {
          "output_type": "execute_result",
          "data": {
            "text/html": [
              "<div>\n",
              "<style scoped>\n",
              "    .dataframe tbody tr th:only-of-type {\n",
              "        vertical-align: middle;\n",
              "    }\n",
              "\n",
              "    .dataframe tbody tr th {\n",
              "        vertical-align: top;\n",
              "    }\n",
              "\n",
              "    .dataframe thead th {\n",
              "        text-align: right;\n",
              "    }\n",
              "</style>\n",
              "<table border=\"1\" class=\"dataframe\">\n",
              "  <thead>\n",
              "    <tr style=\"text-align: right;\">\n",
              "      <th></th>\n",
              "      <th>UserID</th>\n",
              "      <th>Gender</th>\n",
              "      <th>NationalITy</th>\n",
              "      <th>PlaceofBirth</th>\n",
              "      <th>StageID</th>\n",
              "      <th>GradeID</th>\n",
              "      <th>SectionID</th>\n",
              "      <th>Topic</th>\n",
              "      <th>Semester</th>\n",
              "      <th>Relation</th>\n",
              "      <th>raisedhands</th>\n",
              "      <th>VisITedResources</th>\n",
              "      <th>AnnouncementsView</th>\n",
              "      <th>Discussion</th>\n",
              "      <th>ParentAnsweringSurvey</th>\n",
              "      <th>ParentschoolSatisfaction</th>\n",
              "      <th>StudentAbsenceDays</th>\n",
              "      <th>TotalGrade</th>\n",
              "    </tr>\n",
              "  </thead>\n",
              "  <tbody>\n",
              "    <tr>\n",
              "      <th>0</th>\n",
              "      <td>346</td>\n",
              "      <td>0</td>\n",
              "      <td>Jordan</td>\n",
              "      <td>Jordan</td>\n",
              "      <td>1</td>\n",
              "      <td>G-02</td>\n",
              "      <td>2</td>\n",
              "      <td>French</td>\n",
              "      <td>0</td>\n",
              "      <td>NaN</td>\n",
              "      <td>24.0</td>\n",
              "      <td>97</td>\n",
              "      <td>15</td>\n",
              "      <td>14</td>\n",
              "      <td>0</td>\n",
              "      <td>1</td>\n",
              "      <td>0</td>\n",
              "      <td>1</td>\n",
              "    </tr>\n",
              "    <tr>\n",
              "      <th>1</th>\n",
              "      <td>150</td>\n",
              "      <td>1</td>\n",
              "      <td>SaudiArabia</td>\n",
              "      <td>SaudiArabia</td>\n",
              "      <td>2</td>\n",
              "      <td>G-11</td>\n",
              "      <td>1</td>\n",
              "      <td>Quran</td>\n",
              "      <td>0</td>\n",
              "      <td>1</td>\n",
              "      <td>NaN</td>\n",
              "      <td>80</td>\n",
              "      <td>51</td>\n",
              "      <td>59</td>\n",
              "      <td>1</td>\n",
              "      <td>1</td>\n",
              "      <td>0</td>\n",
              "      <td>1</td>\n",
              "    </tr>\n",
              "    <tr>\n",
              "      <th>2</th>\n",
              "      <td>314</td>\n",
              "      <td>0</td>\n",
              "      <td>Jordan</td>\n",
              "      <td>lebanon</td>\n",
              "      <td>1</td>\n",
              "      <td>G-04</td>\n",
              "      <td>2</td>\n",
              "      <td>Science</td>\n",
              "      <td>1</td>\n",
              "      <td>2</td>\n",
              "      <td>78.0</td>\n",
              "      <td>88</td>\n",
              "      <td>74</td>\n",
              "      <td>83</td>\n",
              "      <td>1</td>\n",
              "      <td>1</td>\n",
              "      <td>0</td>\n",
              "      <td>1</td>\n",
              "    </tr>\n",
              "    <tr>\n",
              "      <th>3</th>\n",
              "      <td>306</td>\n",
              "      <td>1</td>\n",
              "      <td>Jordan</td>\n",
              "      <td>Jordan</td>\n",
              "      <td>1</td>\n",
              "      <td>G-04</td>\n",
              "      <td>2</td>\n",
              "      <td>Science</td>\n",
              "      <td>1</td>\n",
              "      <td>NaN</td>\n",
              "      <td>65.0</td>\n",
              "      <td>59</td>\n",
              "      <td>74</td>\n",
              "      <td>83</td>\n",
              "      <td>1</td>\n",
              "      <td>1</td>\n",
              "      <td>0</td>\n",
              "      <td>1</td>\n",
              "    </tr>\n",
              "    <tr>\n",
              "      <th>4</th>\n",
              "      <td>191</td>\n",
              "      <td>1</td>\n",
              "      <td>KW</td>\n",
              "      <td>KuwaIT</td>\n",
              "      <td>3</td>\n",
              "      <td>G-08</td>\n",
              "      <td>1</td>\n",
              "      <td>Arabic</td>\n",
              "      <td>0</td>\n",
              "      <td>1</td>\n",
              "      <td>15.0</td>\n",
              "      <td>25</td>\n",
              "      <td>37</td>\n",
              "      <td>13</td>\n",
              "      <td>1</td>\n",
              "      <td>1</td>\n",
              "      <td>1</td>\n",
              "      <td>3</td>\n",
              "    </tr>\n",
              "  </tbody>\n",
              "</table>\n",
              "</div>"
            ],
            "text/plain": [
              "   UserID  Gender  ... StudentAbsenceDays TotalGrade\n",
              "0     346       0  ...                  0          1\n",
              "1     150       1  ...                  0          1\n",
              "2     314       0  ...                  0          1\n",
              "3     306       1  ...                  0          1\n",
              "4     191       1  ...                  1          3\n",
              "\n",
              "[5 rows x 18 columns]"
            ]
          },
          "metadata": {
            "tags": []
          },
          "execution_count": 18
        }
      ]
    },
    {
      "cell_type": "code",
      "metadata": {
        "id": "lHFFX3GB62Qq"
      },
      "source": [
        "train_data = train_data.fillna(0)"
      ],
      "execution_count": 19,
      "outputs": []
    },
    {
      "cell_type": "code",
      "metadata": {
        "colab": {
          "base_uri": "https://localhost:8080/",
          "height": 379
        },
        "id": "V-fZffIA7C-9",
        "outputId": "ec5579f1-ee3b-415d-e54c-1dde30cb46fc"
      },
      "source": [
        "train_data1 = train_data.drop(['UserID'], axis=1)\n",
        "train_data1.head(10)"
      ],
      "execution_count": 20,
      "outputs": [
        {
          "output_type": "execute_result",
          "data": {
            "text/html": [
              "<div>\n",
              "<style scoped>\n",
              "    .dataframe tbody tr th:only-of-type {\n",
              "        vertical-align: middle;\n",
              "    }\n",
              "\n",
              "    .dataframe tbody tr th {\n",
              "        vertical-align: top;\n",
              "    }\n",
              "\n",
              "    .dataframe thead th {\n",
              "        text-align: right;\n",
              "    }\n",
              "</style>\n",
              "<table border=\"1\" class=\"dataframe\">\n",
              "  <thead>\n",
              "    <tr style=\"text-align: right;\">\n",
              "      <th></th>\n",
              "      <th>Gender</th>\n",
              "      <th>NationalITy</th>\n",
              "      <th>PlaceofBirth</th>\n",
              "      <th>StageID</th>\n",
              "      <th>GradeID</th>\n",
              "      <th>SectionID</th>\n",
              "      <th>Topic</th>\n",
              "      <th>Semester</th>\n",
              "      <th>Relation</th>\n",
              "      <th>raisedhands</th>\n",
              "      <th>VisITedResources</th>\n",
              "      <th>AnnouncementsView</th>\n",
              "      <th>Discussion</th>\n",
              "      <th>ParentAnsweringSurvey</th>\n",
              "      <th>ParentschoolSatisfaction</th>\n",
              "      <th>StudentAbsenceDays</th>\n",
              "      <th>TotalGrade</th>\n",
              "    </tr>\n",
              "  </thead>\n",
              "  <tbody>\n",
              "    <tr>\n",
              "      <th>0</th>\n",
              "      <td>0</td>\n",
              "      <td>Jordan</td>\n",
              "      <td>Jordan</td>\n",
              "      <td>1</td>\n",
              "      <td>G-02</td>\n",
              "      <td>2</td>\n",
              "      <td>French</td>\n",
              "      <td>0</td>\n",
              "      <td>0</td>\n",
              "      <td>24.0</td>\n",
              "      <td>97</td>\n",
              "      <td>15</td>\n",
              "      <td>14</td>\n",
              "      <td>0</td>\n",
              "      <td>1</td>\n",
              "      <td>0</td>\n",
              "      <td>1</td>\n",
              "    </tr>\n",
              "    <tr>\n",
              "      <th>1</th>\n",
              "      <td>1</td>\n",
              "      <td>SaudiArabia</td>\n",
              "      <td>SaudiArabia</td>\n",
              "      <td>2</td>\n",
              "      <td>G-11</td>\n",
              "      <td>1</td>\n",
              "      <td>Quran</td>\n",
              "      <td>0</td>\n",
              "      <td>1</td>\n",
              "      <td>0.0</td>\n",
              "      <td>80</td>\n",
              "      <td>51</td>\n",
              "      <td>59</td>\n",
              "      <td>1</td>\n",
              "      <td>1</td>\n",
              "      <td>0</td>\n",
              "      <td>1</td>\n",
              "    </tr>\n",
              "    <tr>\n",
              "      <th>2</th>\n",
              "      <td>0</td>\n",
              "      <td>Jordan</td>\n",
              "      <td>lebanon</td>\n",
              "      <td>1</td>\n",
              "      <td>G-04</td>\n",
              "      <td>2</td>\n",
              "      <td>Science</td>\n",
              "      <td>1</td>\n",
              "      <td>2</td>\n",
              "      <td>78.0</td>\n",
              "      <td>88</td>\n",
              "      <td>74</td>\n",
              "      <td>83</td>\n",
              "      <td>1</td>\n",
              "      <td>1</td>\n",
              "      <td>0</td>\n",
              "      <td>1</td>\n",
              "    </tr>\n",
              "    <tr>\n",
              "      <th>3</th>\n",
              "      <td>1</td>\n",
              "      <td>Jordan</td>\n",
              "      <td>Jordan</td>\n",
              "      <td>1</td>\n",
              "      <td>G-04</td>\n",
              "      <td>2</td>\n",
              "      <td>Science</td>\n",
              "      <td>1</td>\n",
              "      <td>0</td>\n",
              "      <td>65.0</td>\n",
              "      <td>59</td>\n",
              "      <td>74</td>\n",
              "      <td>83</td>\n",
              "      <td>1</td>\n",
              "      <td>1</td>\n",
              "      <td>0</td>\n",
              "      <td>1</td>\n",
              "    </tr>\n",
              "    <tr>\n",
              "      <th>4</th>\n",
              "      <td>1</td>\n",
              "      <td>KW</td>\n",
              "      <td>KuwaIT</td>\n",
              "      <td>3</td>\n",
              "      <td>G-08</td>\n",
              "      <td>1</td>\n",
              "      <td>Arabic</td>\n",
              "      <td>0</td>\n",
              "      <td>1</td>\n",
              "      <td>15.0</td>\n",
              "      <td>25</td>\n",
              "      <td>37</td>\n",
              "      <td>13</td>\n",
              "      <td>1</td>\n",
              "      <td>1</td>\n",
              "      <td>1</td>\n",
              "      <td>3</td>\n",
              "    </tr>\n",
              "    <tr>\n",
              "      <th>5</th>\n",
              "      <td>0</td>\n",
              "      <td>Jordan</td>\n",
              "      <td>Jordan</td>\n",
              "      <td>3</td>\n",
              "      <td>G-07</td>\n",
              "      <td>1</td>\n",
              "      <td>Biology</td>\n",
              "      <td>1</td>\n",
              "      <td>2</td>\n",
              "      <td>88.0</td>\n",
              "      <td>81</td>\n",
              "      <td>50</td>\n",
              "      <td>10</td>\n",
              "      <td>1</td>\n",
              "      <td>1</td>\n",
              "      <td>1</td>\n",
              "      <td>2</td>\n",
              "    </tr>\n",
              "    <tr>\n",
              "      <th>6</th>\n",
              "      <td>1</td>\n",
              "      <td>Jordan</td>\n",
              "      <td>Jordan</td>\n",
              "      <td>3</td>\n",
              "      <td>G-08</td>\n",
              "      <td>1</td>\n",
              "      <td>History</td>\n",
              "      <td>1</td>\n",
              "      <td>2</td>\n",
              "      <td>87.0</td>\n",
              "      <td>92</td>\n",
              "      <td>74</td>\n",
              "      <td>89</td>\n",
              "      <td>1</td>\n",
              "      <td>1</td>\n",
              "      <td>0</td>\n",
              "      <td>1</td>\n",
              "    </tr>\n",
              "    <tr>\n",
              "      <th>7</th>\n",
              "      <td>1</td>\n",
              "      <td>Iraq</td>\n",
              "      <td>Iraq</td>\n",
              "      <td>3</td>\n",
              "      <td>G-07</td>\n",
              "      <td>2</td>\n",
              "      <td>Biology</td>\n",
              "      <td>0</td>\n",
              "      <td>1</td>\n",
              "      <td>89.0</td>\n",
              "      <td>92</td>\n",
              "      <td>89</td>\n",
              "      <td>83</td>\n",
              "      <td>1</td>\n",
              "      <td>1</td>\n",
              "      <td>0</td>\n",
              "      <td>1</td>\n",
              "    </tr>\n",
              "    <tr>\n",
              "      <th>8</th>\n",
              "      <td>0</td>\n",
              "      <td>USA</td>\n",
              "      <td>USA</td>\n",
              "      <td>2</td>\n",
              "      <td>G-12</td>\n",
              "      <td>1</td>\n",
              "      <td>IT</td>\n",
              "      <td>1</td>\n",
              "      <td>0</td>\n",
              "      <td>70.0</td>\n",
              "      <td>69</td>\n",
              "      <td>35</td>\n",
              "      <td>30</td>\n",
              "      <td>1</td>\n",
              "      <td>1</td>\n",
              "      <td>0</td>\n",
              "      <td>1</td>\n",
              "    </tr>\n",
              "    <tr>\n",
              "      <th>9</th>\n",
              "      <td>1</td>\n",
              "      <td>Lybia</td>\n",
              "      <td>Lybia</td>\n",
              "      <td>1</td>\n",
              "      <td>G-02</td>\n",
              "      <td>2</td>\n",
              "      <td>French</td>\n",
              "      <td>0</td>\n",
              "      <td>2</td>\n",
              "      <td>15.0</td>\n",
              "      <td>4</td>\n",
              "      <td>12</td>\n",
              "      <td>7</td>\n",
              "      <td>0</td>\n",
              "      <td>1</td>\n",
              "      <td>1</td>\n",
              "      <td>3</td>\n",
              "    </tr>\n",
              "  </tbody>\n",
              "</table>\n",
              "</div>"
            ],
            "text/plain": [
              "   Gender  NationalITy  ... StudentAbsenceDays  TotalGrade\n",
              "0       0       Jordan  ...                  0           1\n",
              "1       1  SaudiArabia  ...                  0           1\n",
              "2       0       Jordan  ...                  0           1\n",
              "3       1       Jordan  ...                  0           1\n",
              "4       1           KW  ...                  1           3\n",
              "5       0       Jordan  ...                  1           2\n",
              "6       1       Jordan  ...                  0           1\n",
              "7       1         Iraq  ...                  0           1\n",
              "8       0          USA  ...                  0           1\n",
              "9       1        Lybia  ...                  1           3\n",
              "\n",
              "[10 rows x 17 columns]"
            ]
          },
          "metadata": {
            "tags": []
          },
          "execution_count": 20
        }
      ]
    },
    {
      "cell_type": "code",
      "metadata": {
        "colab": {
          "base_uri": "https://localhost:8080/",
          "height": 708
        },
        "id": "LczBCBHE9pRM",
        "outputId": "f24ffca3-c441-4b14-b676-10f0c42c8213"
      },
      "source": [
        "corr = train_data.corr()\n",
        "plt.pyplot.figure(figsize=(12,10))\n",
        "sns.heatmap(corr, annot=True, cmap=plt.cm.Reds)\n",
        "plt.pyplot.show()"
      ],
      "execution_count": 21,
      "outputs": [
        {
          "output_type": "display_data",
          "data": {
            "image/png": "[encoded data removed]",
            "text/plain": [
              "<Figure size 864x720 with 2 Axes>"
            ]
          },
          "metadata": {
            "tags": [],
            "needs_background": "light"
          }
        }
      ]
    },
    {
      "cell_type": "code",
      "metadata": {
        "colab": {
          "base_uri": "https://localhost:8080/",
          "height": 295
        },
        "id": "_BdtzdUT95Sd",
        "outputId": "4361b28d-0cef-4711-d4b9-ffea0dcfaf84"
      },
      "source": [
        "counts = sns.countplot(x='TotalGrade', data=train_data, palette='coolwarm')\n",
        "counts.set(xlabel='Class', ylabel='Count', title='Occurences per class')\n",
        "plt.pyplot.show()"
      ],
      "execution_count": 22,
      "outputs": [
        {
          "output_type": "display_data",
          "data": {
            "image/png": "[encoded data removed]",
            "text/plain": [
              "<Figure size 432x288 with 1 Axes>"
            ]
          },
          "metadata": {
            "tags": [],
            "needs_background": "light"
          }
        }
      ]
    },
    {
      "cell_type": "code",
      "metadata": {
        "colab": {
          "base_uri": "https://localhost:8080/",
          "height": 295
        },
        "id": "vw1vBmwy_OkS",
        "outputId": "3ffa92a0-78dd-47ae-90e1-362b7e77ef3d"
      },
      "source": [
        "sem = sns.countplot(x='TotalGrade', hue='Semester', order=[1, 2, 3], data=train_data, palette='coolwarm')\n",
        "sem.set(xlabel='Class', ylabel='Count', title='Semester comparison')\n",
        "plt.pyplot.show()"
      ],
      "execution_count": 23,
      "outputs": [
        {
          "output_type": "display_data",
          "data": {
            "image/png": "[encoded data removed]",
            "text/plain": [
              "<Figure size 432x288 with 1 Axes>"
            ]
          },
          "metadata": {
            "tags": [],
            "needs_background": "light"
          }
        }
      ]
    },
    {
      "cell_type": "code",
      "metadata": {
        "colab": {
          "base_uri": "https://localhost:8080/",
          "height": 295
        },
        "id": "jVe5Igz8AEwn",
        "outputId": "a74775cc-6a68-4e42-a4f1-98bc2946d2e2"
      },
      "source": [
        "sem = sns.countplot(x='TotalGrade', hue='Gender', order=[1, 2, 3], data=train_data, palette='coolwarm')\n",
        "sem.set(xlabel='Gender', ylabel='Count', title='Gender comparison')\n",
        "plt.pyplot.show()"
      ],
      "execution_count": 24,
      "outputs": [
        {
          "output_type": "display_data",
          "data": {
            "image/png": "[encoded data removed]",
            "text/plain": [
              "<Figure size 432x288 with 1 Axes>"
            ]
          },
          "metadata": {
            "tags": [],
            "needs_background": "light"
          }
        }
      ]
    },
    {
      "cell_type": "code",
      "metadata": {
        "colab": {
          "base_uri": "https://localhost:8080/",
          "height": 296
        },
        "id": "PcIAnkgeOryF",
        "outputId": "d3ac7103-d413-4e5f-c85f-a0e50fa6b438"
      },
      "source": [
        "train_data.groupby('TotalGrade').mean()['raisedhands'].plot()"
      ],
      "execution_count": 25,
      "outputs": [
        {
          "output_type": "execute_result",
          "data": {
            "text/plain": [
              "<matplotlib.axes._subplots.AxesSubplot at 0x7efd2e2a7450>"
            ]
          },
          "metadata": {
            "tags": []
          },
          "execution_count": 25
        },
        {
          "output_type": "display_data",
          "data": {
            "image/png": "[encoded data removed]",
            "text/plain": [
              "<Figure size 432x288 with 1 Axes>"
            ]
          },
          "metadata": {
            "tags": [],
            "needs_background": "light"
          }
        }
      ]
    },
    {
      "cell_type": "code",
      "metadata": {
        "colab": {
          "base_uri": "https://localhost:8080/",
          "height": 296
        },
        "id": "Sw3oPiQ9PHNq",
        "outputId": "48686e50-865f-442d-8615-e2a170054140"
      },
      "source": [
        "train_data.groupby('TotalGrade').mean()['VisITedResources'].plot()"
      ],
      "execution_count": 26,
      "outputs": [
        {
          "output_type": "execute_result",
          "data": {
            "text/plain": [
              "<matplotlib.axes._subplots.AxesSubplot at 0x7efd2e239ad0>"
            ]
          },
          "metadata": {
            "tags": []
          },
          "execution_count": 26
        },
        {
          "output_type": "display_data",
          "data": {
            "image/png": "[encoded data removed]",
            "text/plain": [
              "<Figure size 432x288 with 1 Axes>"
            ]
          },
          "metadata": {
            "tags": [],
            "needs_background": "light"
          }
        }
      ]
    },
    {
      "cell_type": "code",
      "metadata": {
        "colab": {
          "base_uri": "https://localhost:8080/",
          "height": 296
        },
        "id": "tWoD3QLsPIGT",
        "outputId": "d1525157-994a-4dfd-b93a-00c2c4be9510"
      },
      "source": [
        "train_data.groupby('TotalGrade').mean()['AnnouncementsView'].plot()"
      ],
      "execution_count": 27,
      "outputs": [
        {
          "output_type": "execute_result",
          "data": {
            "text/plain": [
              "<matplotlib.axes._subplots.AxesSubplot at 0x7efd2e1a9e10>"
            ]
          },
          "metadata": {
            "tags": []
          },
          "execution_count": 27
        },
        {
          "output_type": "display_data",
          "data": {
            "image/png": "[encoded data removed]",
            "text/plain": [
              "<Figure size 432x288 with 1 Axes>"
            ]
          },
          "metadata": {
            "tags": [],
            "needs_background": "light"
          }
        }
      ]
    },
    {
      "cell_type": "code",
      "metadata": {
        "colab": {
          "base_uri": "https://localhost:8080/",
          "height": 296
        },
        "id": "jBpsDBAuPIh3",
        "outputId": "e5ae5578-4b63-4521-97b9-cc7bba63af16"
      },
      "source": [
        "train_data.groupby('TotalGrade').mean()['StudentAbsenceDays'].plot()"
      ],
      "execution_count": 28,
      "outputs": [
        {
          "output_type": "execute_result",
          "data": {
            "text/plain": [
              "<matplotlib.axes._subplots.AxesSubplot at 0x7efd2e12d590>"
            ]
          },
          "metadata": {
            "tags": []
          },
          "execution_count": 28
        },
        {
          "output_type": "display_data",
          "data": {
            "image/png": "[encoded data removed]",
            "text/plain": [
              "<Figure size 432x288 with 1 Axes>"
            ]
          },
          "metadata": {
            "tags": [],
            "needs_background": "light"
          }
        }
      ]
    },
    {
      "cell_type": "code",
      "metadata": {
        "colab": {
          "base_uri": "https://localhost:8080/",
          "height": 296
        },
        "id": "PVrIxXOyRb_J",
        "outputId": "e5e888a1-c946-4b07-927c-d00356d94b25"
      },
      "source": [
        "train_data.groupby('TotalGrade').mean()['ParentAnsweringSurvey'].plot()"
      ],
      "execution_count": 29,
      "outputs": [
        {
          "output_type": "execute_result",
          "data": {
            "text/plain": [
              "<matplotlib.axes._subplots.AxesSubplot at 0x7efd2e080890>"
            ]
          },
          "metadata": {
            "tags": []
          },
          "execution_count": 29
        },
        {
          "output_type": "display_data",
          "data": {
            "image/png": "[encoded data removed]",
            "text/plain": [
              "<Figure size 432x288 with 1 Axes>"
            ]
          },
          "metadata": {
            "tags": [],
            "needs_background": "light"
          }
        }
      ]
    },
    {
      "cell_type": "code",
      "metadata": {
        "colab": {
          "base_uri": "https://localhost:8080/",
          "height": 296
        },
        "id": "GudZ0WpXRcd5",
        "outputId": "b35cd553-1215-4da4-b124-5f6bfc71b1e2"
      },
      "source": [
        "train_data.groupby('TotalGrade').mean()['Discussion'].plot()"
      ],
      "execution_count": 30,
      "outputs": [
        {
          "output_type": "execute_result",
          "data": {
            "text/plain": [
              "<matplotlib.axes._subplots.AxesSubplot at 0x7efd2e015c10>"
            ]
          },
          "metadata": {
            "tags": []
          },
          "execution_count": 30
        },
        {
          "output_type": "display_data",
          "data": {
            "image/png": "[encoded data removed]",
            "text/plain": [
              "<Figure size 432x288 with 1 Axes>"
            ]
          },
          "metadata": {
            "tags": [],
            "needs_background": "light"
          }
        }
      ]
    },
    {
      "cell_type": "markdown",
      "metadata": {
        "id": "u39G5y7tPFeo"
      },
      "source": [
        ""
      ]
    },
    {
      "cell_type": "code",
      "metadata": {
        "colab": {
          "base_uri": "https://localhost:8080/",
          "height": 542
        },
        "id": "vXXAJlfq3mzP",
        "outputId": "0a1e5157-7def-4ab0-8ee4-fa2fc9f7c99e"
      },
      "source": [
        "fig = px.histogram(train_data, x='raisedhands')\n",
        "fig.show()"
      ],
      "execution_count": 31,
      "outputs": [
        {
          "output_type": "display_data",
          "data": {
            "text/html": [
              "<html>\n",
              "<head><meta charset=\"utf-8\" /></head>\n",
              "<body>\n",
              "    <div>\n",
              "            <script src=\"https://cdnjs.cloudflare.com/ajax/libs/mathjax/2.7.5/MathJax.js?config=TeX-AMS-MML_SVG\"></script><script type=\"text/javascript\">if (window.MathJax) {MathJax.Hub.Config({SVG: {font: \"STIX-Web\"}});}</script>\n",
              "                <script type=\"text/javascript\">window.PlotlyConfig = {MathJaxConfig: 'local'};</script>\n",
              "        <script src=\"https://cdn.plot.ly/plotly-latest.min.js\"></script>    \n",
              "            <div id=\"51ac9396-c083-41e3-85ce-b8f46366cfdd\" class=\"plotly-graph-div\" style=\"height:525px; width:100%;\"></div>\n",
              "            <script type=\"text/javascript\">\n",
              "                \n",
              "                    window.PLOTLYENV=window.PLOTLYENV || {};\n",
              "                    \n",
              "                if (document.getElementById(\"51ac9396-c083-41e3-85ce-b8f46366cfdd\")) {\n",
              "                    Plotly.newPlot(\n",
              "                        '51ac9396-c083-41e3-85ce-b8f46366cfdd',\n",
              "                        [{\"alignmentgroup\": \"True\", \"bingroup\": \"x\", \"hoverlabel\": {\"namelength\": 0}, \"hovertemplate\": \"raisedhands=%{x}<br>count=%{y}\", \"legendgroup\": \"\", \"marker\": {\"color\": \"#636efa\"}, \"name\": \"\", \"offsetgroup\": \"\", \"orientation\": \"v\", \"showlegend\": false, \"type\": \"histogram\", \"x\": [24.0, 0.0, 78.0, 65.0, 15.0, 88.0, 87.0, 89.0, 70.0, 15.0, 7.0, 0.0, 15.0, 0.0, 0.0, 22.0, 74.0, 11.0, 14.0, 10.0, 80.0, 65.0, 80.0, 10.0, 10.0, 0.0, 15.0, 2.0, 92.0, 70.0, 70.0, 11.0, 100.0, 40.0, 66.0, 0.0, 30.0, 10.0, 72.0, 0.0, 80.0, 70.0, 0.0, 72.0, 27.0, 70.0, 35.0, 88.0, 15.0, 19.0, 23.0, 5.0, 0.0, 20.0, 29.0, 0.0, 10.0, 0.0, 60.0, 71.0, 55.0, 72.0, 96.0, 0.0, 80.0, 78.0, 40.0, 25.0, 10.0, 27.0, 60.0, 0.0, 0.0, 10.0, 0.0, 85.0, 80.0, 0.0, 16.0, 0.0, 77.0, 17.0, 19.0, 72.0, 40.0, 0.0, 0.0, 82.0, 9.0, 82.0, 50.0, 35.0, 22.0, 70.0, 0.0, 0.0, 19.0, 4.0, 55.0, 49.0, 0.0, 20.0, 72.0, 59.0, 0.0, 0.0, 100.0, 10.0, 20.0, 90.0, 39.0, 62.0, 80.0, 52.0, 0.0, 5.0, 69.0, 0.0, 0.0, 50.0, 87.0, 77.0, 0.0, 32.0, 20.0, 27.0, 10.0, 12.0, 75.0, 85.0, 80.0, 79.0, 0.0, 45.0, 50.0, 0.0, 32.0, 35.0, 12.0, 10.0, 87.0, 80.0, 95.0, 49.0, 0.0, 75.0, 100.0, 83.0, 74.0, 10.0, 55.0, 42.0, 0.0, 25.0, 17.0, 77.0, 60.0, 53.0, 0.0, 0.0, 0.0, 92.0, 32.0, 0.0, 0.0, 98.0, 0.0, 2.0, 22.0, 8.0, 72.0, 15.0, 10.0, 74.0, 90.0, 40.0, 80.0, 25.0, 0.0, 50.0, 80.0, 81.0, 39.0, 62.0, 0.0, 15.0, 17.0, 8.0, 0.0, 90.0, 87.0, 89.0, 100.0, 25.0, 79.0, 15.0, 75.0, 70.0, 0.0, 33.0, 8.0, 62.0, 90.0, 29.0, 21.0, 86.0, 0.0, 36.0, 85.0, 0.0, 29.0, 0.0, 9.0, 30.0, 0.0, 76.0, 80.0, 10.0, 22.0, 0.0, 0.0, 0.0, 0.0, 75.0, 72.0, 50.0, 90.0, 5.0, 0.0, 72.0, 0.0, 14.0, 5.0, 30.0, 35.0, 0.0, 19.0, 40.0, 27.0, 0.0, 11.0, 69.0, 70.0, 51.0, 0.0, 0.0, 10.0, 0.0, 0.0, 70.0, 80.0, 0.0, 60.0, 0.0, 98.0, 80.0, 0.0, 0.0, 0.0, 10.0, 0.0, 11.0, 0.0, 15.0, 51.0, 42.0, 19.0, 72.0, 0.0, 10.0, 2.0, 50.0, 42.0, 7.0, 0.0, 8.0, 45.0, 50.0, 71.0, 10.0, 72.0, 35.0, 11.0, 70.0, 84.0, 0.0, 9.0, 60.0, 100.0, 5.0, 81.0, 0.0, 72.0, 90.0, 70.0, 50.0, 78.0, 35.0, 61.0, 0.0, 0.0, 2.0, 13.0, 85.0, 35.0, 29.0, 70.0, 82.0, 77.0, 0.0, 60.0, 12.0, 60.0, 35.0, 0.0, 18.0, 0.0, 0.0, 81.0, 17.0, 70.0, 70.0, 67.0, 88.0, 75.0, 50.0, 7.0, 45.0, 0.0, 98.0, 85.0, 19.0, 80.0, 0.0, 80.0, 12.0, 0.0, 27.0, 65.0, 0.0, 0.0, 0.0, 15.0, 27.0, 90.0, 50.0, 0.0, 70.0, 0.0, 18.0, 0.0, 0.0, 50.0, 0.0, 0.0, 35.0, 72.0, 0.0, 19.0, 41.0, 10.0, 0.0, 10.0, 0.0, 90.0, 4.0, 69.0, 3.0, 80.0, 95.0, 7.0, 0.0, 50.0, 0.0, 75.0, 0.0, 85.0, 89.0, 73.0, 0.0, 0.0, 60.0, 0.0, 72.0], \"xaxis\": \"x\", \"yaxis\": \"y\"}],\n",
              "                        {\"barmode\": \"relative\", \"legend\": {\"tracegroupgap\": 0}, \"margin\": {\"t\": 60}, \"template\": {\"data\": {\"bar\": [{\"error_x\": {\"color\": \"#2a3f5f\"}, \"error_y\": {\"color\": \"#2a3f5f\"}, \"marker\": {\"line\": {\"color\": \"#E5ECF6\", \"width\": 0.5}}, \"type\": \"bar\"}], \"barpolar\": [{\"marker\": {\"line\": {\"color\": \"#E5ECF6\", \"width\": 0.5}}, \"type\": \"barpolar\"}], \"carpet\": [{\"aaxis\": {\"endlinecolor\": \"#2a3f5f\", \"gridcolor\": \"white\", \"linecolor\": \"white\", \"minorgridcolor\": \"white\", \"startlinecolor\": \"#2a3f5f\"}, \"baxis\": {\"endlinecolor\": \"#2a3f5f\", \"gridcolor\": \"white\", \"linecolor\": \"white\", \"minorgridcolor\": \"white\", \"startlinecolor\": \"#2a3f5f\"}, \"type\": \"carpet\"}], \"choropleth\": [{\"colorbar\": {\"outlinewidth\": 0, \"ticks\": \"\"}, \"type\": \"choropleth\"}], \"contour\": [{\"colorbar\": {\"outlinewidth\": 0, \"ticks\": \"\"}, \"colorscale\": [[0.0, \"#0d0887\"], [0.1111111111111111, \"#46039f\"], [0.2222222222222222, \"#7201a8\"], [0.3333333333333333, \"#9c179e\"], [0.4444444444444444, \"#bd3786\"], [0.5555555555555556, \"#d8576b\"], [0.6666666666666666, \"#ed7953\"], [0.7777777777777778, \"#fb9f3a\"], [0.8888888888888888, \"#fdca26\"], [1.0, \"#f0f921\"]], \"type\": \"contour\"}], \"contourcarpet\": [{\"colorbar\": {\"outlinewidth\": 0, \"ticks\": \"\"}, \"type\": \"contourcarpet\"}], \"heatmap\": [{\"colorbar\": {\"outlinewidth\": 0, \"ticks\": \"\"}, \"colorscale\": [[0.0, \"#0d0887\"], [0.1111111111111111, \"#46039f\"], [0.2222222222222222, \"#7201a8\"], [0.3333333333333333, \"#9c179e\"], [0.4444444444444444, \"#bd3786\"], [0.5555555555555556, \"#d8576b\"], [0.6666666666666666, \"#ed7953\"], [0.7777777777777778, \"#fb9f3a\"], [0.8888888888888888, \"#fdca26\"], [1.0, \"#f0f921\"]], \"type\": \"heatmap\"}], \"heatmapgl\": [{\"colorbar\": {\"outlinewidth\": 0, \"ticks\": \"\"}, \"colorscale\": [[0.0, \"#0d0887\"], [0.1111111111111111, \"#46039f\"], [0.2222222222222222, \"#7201a8\"], [0.3333333333333333, \"#9c179e\"], [0.4444444444444444, \"#bd3786\"], [0.5555555555555556, \"#d8576b\"], [0.6666666666666666, \"#ed7953\"], [0.7777777777777778, \"#fb9f3a\"], [0.8888888888888888, \"#fdca26\"], [1.0, \"#f0f921\"]], \"type\": \"heatmapgl\"}], \"histogram\": [{\"marker\": {\"colorbar\": {\"outlinewidth\": 0, \"ticks\": \"\"}}, \"type\": \"histogram\"}], \"histogram2d\": [{\"colorbar\": {\"outlinewidth\": 0, \"ticks\": \"\"}, \"colorscale\": [[0.0, \"#0d0887\"], [0.1111111111111111, \"#46039f\"], [0.2222222222222222, \"#7201a8\"], [0.3333333333333333, \"#9c179e\"], [0.4444444444444444, \"#bd3786\"], [0.5555555555555556, \"#d8576b\"], [0.6666666666666666, \"#ed7953\"], [0.7777777777777778, \"#fb9f3a\"], [0.8888888888888888, \"#fdca26\"], [1.0, \"#f0f921\"]], \"type\": \"histogram2d\"}], \"histogram2dcontour\": [{\"colorbar\": {\"outlinewidth\": 0, \"ticks\": \"\"}, \"colorscale\": [[0.0, \"#0d0887\"], [0.1111111111111111, \"#46039f\"], [0.2222222222222222, \"#7201a8\"], [0.3333333333333333, \"#9c179e\"], [0.4444444444444444, \"#bd3786\"], [0.5555555555555556, \"#d8576b\"], [0.6666666666666666, \"#ed7953\"], [0.7777777777777778, \"#fb9f3a\"], [0.8888888888888888, \"#fdca26\"], [1.0, \"#f0f921\"]], \"type\": \"histogram2dcontour\"}], \"mesh3d\": [{\"colorbar\": {\"outlinewidth\": 0, \"ticks\": \"\"}, \"type\": \"mesh3d\"}], \"parcoords\": [{\"line\": {\"colorbar\": {\"outlinewidth\": 0, \"ticks\": \"\"}}, \"type\": \"parcoords\"}], \"pie\": [{\"automargin\": true, \"type\": \"pie\"}], \"scatter\": [{\"marker\": {\"colorbar\": {\"outlinewidth\": 0, \"ticks\": \"\"}}, \"type\": \"scatter\"}], \"scatter3d\": [{\"line\": {\"colorbar\": {\"outlinewidth\": 0, \"ticks\": \"\"}}, \"marker\": {\"colorbar\": {\"outlinewidth\": 0, \"ticks\": \"\"}}, \"type\": \"scatter3d\"}], \"scattercarpet\": [{\"marker\": {\"colorbar\": {\"outlinewidth\": 0, \"ticks\": \"\"}}, \"type\": \"scattercarpet\"}], \"scattergeo\": [{\"marker\": {\"colorbar\": {\"outlinewidth\": 0, \"ticks\": \"\"}}, \"type\": \"scattergeo\"}], \"scattergl\": [{\"marker\": {\"colorbar\": {\"outlinewidth\": 0, \"ticks\": \"\"}}, \"type\": \"scattergl\"}], \"scattermapbox\": [{\"marker\": {\"colorbar\": {\"outlinewidth\": 0, \"ticks\": \"\"}}, \"type\": \"scattermapbox\"}], \"scatterpolar\": [{\"marker\": {\"colorbar\": {\"outlinewidth\": 0, \"ticks\": \"\"}}, \"type\": \"scatterpolar\"}], \"scatterpolargl\": [{\"marker\": {\"colorbar\": {\"outlinewidth\": 0, \"ticks\": \"\"}}, \"type\": \"scatterpolargl\"}], \"scatterternary\": [{\"marker\": {\"colorbar\": {\"outlinewidth\": 0, \"ticks\": \"\"}}, \"type\": \"scatterternary\"}], \"surface\": [{\"colorbar\": {\"outlinewidth\": 0, \"ticks\": \"\"}, \"colorscale\": [[0.0, \"#0d0887\"], [0.1111111111111111, \"#46039f\"], [0.2222222222222222, \"#7201a8\"], [0.3333333333333333, \"#9c179e\"], [0.4444444444444444, \"#bd3786\"], [0.5555555555555556, \"#d8576b\"], [0.6666666666666666, \"#ed7953\"], [0.7777777777777778, \"#fb9f3a\"], [0.8888888888888888, \"#fdca26\"], [1.0, \"#f0f921\"]], \"type\": \"surface\"}], \"table\": [{\"cells\": {\"fill\": {\"color\": \"#EBF0F8\"}, \"line\": {\"color\": \"white\"}}, \"header\": {\"fill\": {\"color\": \"#C8D4E3\"}, \"line\": {\"color\": \"white\"}}, \"type\": \"table\"}]}, \"layout\": {\"annotationdefaults\": {\"arrowcolor\": \"#2a3f5f\", \"arrowhead\": 0, \"arrowwidth\": 1}, \"coloraxis\": {\"colorbar\": {\"outlinewidth\": 0, \"ticks\": \"\"}}, \"colorscale\": {\"diverging\": [[0, \"#8e0152\"], [0.1, \"#c51b7d\"], [0.2, \"#de77ae\"], [0.3, \"#f1b6da\"], [0.4, \"#fde0ef\"], [0.5, \"#f7f7f7\"], [0.6, \"#e6f5d0\"], [0.7, \"#b8e186\"], [0.8, \"#7fbc41\"], [0.9, \"#4d9221\"], [1, \"#276419\"]], \"sequential\": [[0.0, \"#0d0887\"], [0.1111111111111111, \"#46039f\"], [0.2222222222222222, \"#7201a8\"], [0.3333333333333333, \"#9c179e\"], [0.4444444444444444, \"#bd3786\"], [0.5555555555555556, \"#d8576b\"], [0.6666666666666666, \"#ed7953\"], [0.7777777777777778, \"#fb9f3a\"], [0.8888888888888888, \"#fdca26\"], [1.0, \"#f0f921\"]], \"sequentialminus\": [[0.0, \"#0d0887\"], [0.1111111111111111, \"#46039f\"], [0.2222222222222222, \"#7201a8\"], [0.3333333333333333, \"#9c179e\"], [0.4444444444444444, \"#bd3786\"], [0.5555555555555556, \"#d8576b\"], [0.6666666666666666, \"#ed7953\"], [0.7777777777777778, \"#fb9f3a\"], [0.8888888888888888, \"#fdca26\"], [1.0, \"#f0f921\"]]}, \"colorway\": [\"#636efa\", \"#EF553B\", \"#00cc96\", \"#ab63fa\", \"#FFA15A\", \"#19d3f3\", \"#FF6692\", \"#B6E880\", \"#FF97FF\", \"#FECB52\"], \"font\": {\"color\": \"#2a3f5f\"}, \"geo\": {\"bgcolor\": \"white\", \"lakecolor\": \"white\", \"landcolor\": \"#E5ECF6\", \"showlakes\": true, \"showland\": true, \"subunitcolor\": \"white\"}, \"hoverlabel\": {\"align\": \"left\"}, \"hovermode\": \"closest\", \"mapbox\": {\"style\": \"light\"}, \"paper_bgcolor\": \"white\", \"plot_bgcolor\": \"#E5ECF6\", \"polar\": {\"angularaxis\": {\"gridcolor\": \"white\", \"linecolor\": \"white\", \"ticks\": \"\"}, \"bgcolor\": \"#E5ECF6\", \"radialaxis\": {\"gridcolor\": \"white\", \"linecolor\": \"white\", \"ticks\": \"\"}}, \"scene\": {\"xaxis\": {\"backgroundcolor\": \"#E5ECF6\", \"gridcolor\": \"white\", \"gridwidth\": 2, \"linecolor\": \"white\", \"showbackground\": true, \"ticks\": \"\", \"zerolinecolor\": \"white\"}, \"yaxis\": {\"backgroundcolor\": \"#E5ECF6\", \"gridcolor\": \"white\", \"gridwidth\": 2, \"linecolor\": \"white\", \"showbackground\": true, \"ticks\": \"\", \"zerolinecolor\": \"white\"}, \"zaxis\": {\"backgroundcolor\": \"#E5ECF6\", \"gridcolor\": \"white\", \"gridwidth\": 2, \"linecolor\": \"white\", \"showbackground\": true, \"ticks\": \"\", \"zerolinecolor\": \"white\"}}, \"shapedefaults\": {\"line\": {\"color\": \"#2a3f5f\"}}, \"ternary\": {\"aaxis\": {\"gridcolor\": \"white\", \"linecolor\": \"white\", \"ticks\": \"\"}, \"baxis\": {\"gridcolor\": \"white\", \"linecolor\": \"white\", \"ticks\": \"\"}, \"bgcolor\": \"#E5ECF6\", \"caxis\": {\"gridcolor\": \"white\", \"linecolor\": \"white\", \"ticks\": \"\"}}, \"title\": {\"x\": 0.05}, \"xaxis\": {\"automargin\": true, \"gridcolor\": \"white\", \"linecolor\": \"white\", \"ticks\": \"\", \"title\": {\"standoff\": 15}, \"zerolinecolor\": \"white\", \"zerolinewidth\": 2}, \"yaxis\": {\"automargin\": true, \"gridcolor\": \"white\", \"linecolor\": \"white\", \"ticks\": \"\", \"title\": {\"standoff\": 15}, \"zerolinecolor\": \"white\", \"zerolinewidth\": 2}}}, \"xaxis\": {\"anchor\": \"y\", \"domain\": [0.0, 1.0], \"title\": {\"text\": \"raisedhands\"}}, \"yaxis\": {\"anchor\": \"x\", \"domain\": [0.0, 1.0], \"title\": {\"text\": \"count\"}}},\n",
              "                        {\"responsive\": true}\n",
              "                    ).then(function(){\n",
              "                            \n",
              "var gd = document.getElementById('51ac9396-c083-41e3-85ce-b8f46366cfdd');\n",
              "var x = new MutationObserver(function (mutations, observer) {{\n",
              "        var display = window.getComputedStyle(gd).display;\n",
              "        if (!display || display === 'none') {{\n",
              "            console.log([gd, 'removed!']);\n",
              "            Plotly.purge(gd);\n",
              "            observer.disconnect();\n",
              "        }}\n",
              "}});\n",
              "\n",
              "// Listen for the removal of the full notebook cells\n",
              "var notebookContainer = gd.closest('#notebook-container');\n",
              "if (notebookContainer) {{\n",
              "    x.observe(notebookContainer, {childList: true});\n",
              "}}\n",
              "\n",
              "// Listen for the clearing of the current output cell\n",
              "var outputEl = gd.closest('.output');\n",
              "if (outputEl) {{\n",
              "    x.observe(outputEl, {childList: true});\n",
              "}}\n",
              "\n",
              "                        })\n",
              "                };\n",
              "                \n",
              "            </script>\n",
              "        </div>\n",
              "</body>\n",
              "</html>"
            ]
          },
          "metadata": {
            "tags": []
          }
        }
      ]
    },
    {
      "cell_type": "code",
      "metadata": {
        "id": "6a4z8YKVAwU2"
      },
      "source": [
        "from sklearn.linear_model import LogisticRegression\n",
        "from sklearn.model_selection import train_test_split\n",
        "from sklearn.metrics import confusion_matrix\n",
        "\n",
        "y = train_data.TotalGrade\n",
        "X = train_data[['raisedhands', 'VisITedResources', 'AnnouncementsView', 'StudentAbsenceDays']]\n",
        "\n",
        "X_train, X_test, y_train, y_test = train_test_split(X, y, random_state=1337)"
      ],
      "execution_count": 32,
      "outputs": []
    },
    {
      "cell_type": "code",
      "metadata": {
        "colab": {
          "base_uri": "https://localhost:8080/"
        },
        "id": "zIhL_2NcC99J",
        "outputId": "b80a6f93-3b52-4760-f439-375709dda3f2"
      },
      "source": [
        "logreg = LogisticRegression(C=1e5)\n",
        "logistic_regression = logreg.fit(X_train, y_train)\n",
        "predicition_lr = logistic_regression.predict(X_test)"
      ],
      "execution_count": 33,
      "outputs": [
        {
          "output_type": "stream",
          "text": [
            "/usr/local/lib/python3.7/dist-packages/sklearn/linear_model/_logistic.py:940: ConvergenceWarning:\n",
            "\n",
            "lbfgs failed to converge (status=1):\n",
            "STOP: TOTAL NO. of ITERATIONS REACHED LIMIT.\n",
            "\n",
            "Increase the number of iterations (max_iter) or scale the data as shown in:\n",
            "    https://scikit-learn.org/stable/modules/preprocessing.html\n",
            "Please also refer to the documentation for alternative solver options:\n",
            "    https://scikit-learn.org/stable/modules/linear_model.html#logistic-regression\n",
            "\n"
          ],
          "name": "stderr"
        }
      ]
    },
    {
      "cell_type": "code",
      "metadata": {
        "colab": {
          "base_uri": "https://localhost:8080/"
        },
        "id": "slWs7sL2DVs4",
        "outputId": "dc549c0a-aad7-49d0-f921-4b4dfaa5d6ad"
      },
      "source": [
        "logistic_regression.score(X_test, y_test)"
      ],
      "execution_count": 34,
      "outputs": [
        {
          "output_type": "execute_result",
          "data": {
            "text/plain": [
              "0.7291666666666666"
            ]
          },
          "metadata": {
            "tags": []
          },
          "execution_count": 34
        }
      ]
    },
    {
      "cell_type": "code",
      "metadata": {
        "id": "yY88v_HuD224"
      },
      "source": [
        "from sklearn import svm\n",
        "\n",
        "from sklearn.metrics import recall_score\n",
        "\n",
        "linear = svm.SVC(kernel='linear', C=1, decision_function_shape='ovo').fit(X_train, y_train)"
      ],
      "execution_count": 35,
      "outputs": []
    },
    {
      "cell_type": "code",
      "metadata": {
        "id": "oNwRZuaPKHzA"
      },
      "source": [
        "linear_pred = linear.predict(X_test)"
      ],
      "execution_count": 36,
      "outputs": []
    },
    {
      "cell_type": "code",
      "metadata": {
        "colab": {
          "base_uri": "https://localhost:8080/"
        },
        "id": "d3g5PHdULeyN",
        "outputId": "4478e201-f3a5-4bf5-b731-b1425e7c4f90"
      },
      "source": [
        "accuracy_lin = linear.score(X_test, y_test)\n",
        "accuracy_lin"
      ],
      "execution_count": 37,
      "outputs": [
        {
          "output_type": "execute_result",
          "data": {
            "text/plain": [
              "0.7083333333333334"
            ]
          },
          "metadata": {
            "tags": []
          },
          "execution_count": 37
        }
      ]
    },
    {
      "cell_type": "code",
      "metadata": {
        "colab": {
          "base_uri": "https://localhost:8080/"
        },
        "id": "W73-s8poLiik",
        "outputId": "9e089d1a-6df4-4ab0-ff78-db3299d284c8"
      },
      "source": [
        "from sklearn.tree import DecisionTreeClassifier\n",
        "\n",
        "decision_tree_model = DecisionTreeClassifier()\n",
        "decision_tree_model.fit(X_train, y_train)"
      ],
      "execution_count": 38,
      "outputs": [
        {
          "output_type": "execute_result",
          "data": {
            "text/plain": [
              "DecisionTreeClassifier(ccp_alpha=0.0, class_weight=None, criterion='gini',\n",
              "                       max_depth=None, max_features=None, max_leaf_nodes=None,\n",
              "                       min_impurity_decrease=0.0, min_impurity_split=None,\n",
              "                       min_samples_leaf=1, min_samples_split=2,\n",
              "                       min_weight_fraction_leaf=0.0, presort='deprecated',\n",
              "                       random_state=None, splitter='best')"
            ]
          },
          "metadata": {
            "tags": []
          },
          "execution_count": 38
        }
      ]
    },
    {
      "cell_type": "code",
      "metadata": {
        "colab": {
          "base_uri": "https://localhost:8080/"
        },
        "id": "Rx3Lg7kpLlMG",
        "outputId": "8708c672-fad4-4916-d7d7-b2e00127ba7f"
      },
      "source": [
        "decision_tree_model.score(X_test, y_test)"
      ],
      "execution_count": 39,
      "outputs": [
        {
          "output_type": "execute_result",
          "data": {
            "text/plain": [
              "0.59375"
            ]
          },
          "metadata": {
            "tags": []
          },
          "execution_count": 39
        }
      ]
    },
    {
      "cell_type": "code",
      "metadata": {
        "id": "HMgYRXbFQugV"
      },
      "source": [
        "# Adding additional fields\n",
        "X = train_data[['raisedhands', 'VisITedResources', 'AnnouncementsView', 'StudentAbsenceDays', 'Gender', 'ParentAnsweringSurvey', 'Discussion']]\n",
        "\n",
        "X_train, X_test, y_train, y_test = train_test_split(X, y, random_state=1337)"
      ],
      "execution_count": 80,
      "outputs": []
    },
    {
      "cell_type": "code",
      "metadata": {
        "colab": {
          "base_uri": "https://localhost:8080/"
        },
        "id": "xSO16l4aRlzS",
        "outputId": "f8446a6c-5e16-46eb-97bb-d535c8000ace"
      },
      "source": [
        "logreg = LogisticRegression(C=1e5)\n",
        "logistic_regression = logreg.fit(X_train, y_train)\n",
        "predicition_lr = logistic_regression.predict(X_test)"
      ],
      "execution_count": 41,
      "outputs": [
        {
          "output_type": "stream",
          "text": [
            "/usr/local/lib/python3.7/dist-packages/sklearn/linear_model/_logistic.py:940: ConvergenceWarning:\n",
            "\n",
            "lbfgs failed to converge (status=1):\n",
            "STOP: TOTAL NO. of ITERATIONS REACHED LIMIT.\n",
            "\n",
            "Increase the number of iterations (max_iter) or scale the data as shown in:\n",
            "    https://scikit-learn.org/stable/modules/preprocessing.html\n",
            "Please also refer to the documentation for alternative solver options:\n",
            "    https://scikit-learn.org/stable/modules/linear_model.html#logistic-regression\n",
            "\n"
          ],
          "name": "stderr"
        }
      ]
    },
    {
      "cell_type": "code",
      "metadata": {
        "colab": {
          "base_uri": "https://localhost:8080/"
        },
        "id": "YKw8teonRqvd",
        "outputId": "00f6f3c2-6f67-418a-f8ce-79ede520b5ae"
      },
      "source": [
        "logistic_regression.score(X_test, y_test)"
      ],
      "execution_count": 42,
      "outputs": [
        {
          "output_type": "execute_result",
          "data": {
            "text/plain": [
              "0.8020833333333334"
            ]
          },
          "metadata": {
            "tags": []
          },
          "execution_count": 42
        }
      ]
    },
    {
      "cell_type": "code",
      "metadata": {
        "id": "9YM8EpntRrQB"
      },
      "source": [
        "linear = svm.SVC(kernel='linear', C=1, decision_function_shape='ovo').fit(X_train, y_train)"
      ],
      "execution_count": 43,
      "outputs": []
    },
    {
      "cell_type": "code",
      "metadata": {
        "id": "TqzicIjURv3e"
      },
      "source": [
        "linear_pred = linear.predict(X_test)"
      ],
      "execution_count": 44,
      "outputs": []
    },
    {
      "cell_type": "code",
      "metadata": {
        "colab": {
          "base_uri": "https://localhost:8080/"
        },
        "id": "CRtU5cBNRyHb",
        "outputId": "f1b24286-7923-4d5a-ca4c-73ae53017464"
      },
      "source": [
        "accuracy_lin = linear.score(X_test, y_test)\n",
        "accuracy_lin"
      ],
      "execution_count": 45,
      "outputs": [
        {
          "output_type": "execute_result",
          "data": {
            "text/plain": [
              "0.7291666666666666"
            ]
          },
          "metadata": {
            "tags": []
          },
          "execution_count": 45
        }
      ]
    },
    {
      "cell_type": "code",
      "metadata": {
        "colab": {
          "base_uri": "https://localhost:8080/"
        },
        "id": "wiphcgNx7vnF",
        "outputId": "1e31c327-d944-4ee2-8e6e-470717a80264"
      },
      "source": [
        "from sklearn.metrics import classification_report\n",
        "\n",
        "print(classification_report(predicition_lr, y_test))"
      ],
      "execution_count": 86,
      "outputs": [
        {
          "output_type": "stream",
          "text": [
            "              precision    recall  f1-score   support\n",
            "\n",
            "           1       0.88      0.68      0.76        31\n",
            "           2       0.70      0.87      0.78        38\n",
            "           3       0.92      0.85      0.88        27\n",
            "\n",
            "    accuracy                           0.80        96\n",
            "   macro avg       0.83      0.80      0.81        96\n",
            "weighted avg       0.82      0.80      0.80        96\n",
            "\n"
          ],
          "name": "stdout"
        }
      ]
    },
    {
      "cell_type": "code",
      "metadata": {
        "colab": {
          "base_uri": "https://localhost:8080/"
        },
        "id": "D6t0tGmaRzZs",
        "outputId": "f40ca866-2972-4ede-e2ac-364af83523e0"
      },
      "source": [
        "clean_test_data = get_clean_data(test_data)"
      ],
      "execution_count": 46,
      "outputs": [
        {
          "output_type": "stream",
          "text": [
            "/usr/local/lib/python3.7/dist-packages/ipykernel_launcher.py:10: SettingWithCopyWarning:\n",
            "\n",
            "\n",
            "A value is trying to be set on a copy of a slice from a DataFrame\n",
            "\n",
            "See the caveats in the documentation: https://pandas.pydata.org/pandas-docs/stable/user_guide/indexing.html#returning-a-view-versus-a-copy\n",
            "\n",
            "/usr/local/lib/python3.7/dist-packages/ipykernel_launcher.py:11: SettingWithCopyWarning:\n",
            "\n",
            "\n",
            "A value is trying to be set on a copy of a slice from a DataFrame\n",
            "\n",
            "See the caveats in the documentation: https://pandas.pydata.org/pandas-docs/stable/user_guide/indexing.html#returning-a-view-versus-a-copy\n",
            "\n",
            "/usr/local/lib/python3.7/dist-packages/ipykernel_launcher.py:13: SettingWithCopyWarning:\n",
            "\n",
            "\n",
            "A value is trying to be set on a copy of a slice from a DataFrame\n",
            "\n",
            "See the caveats in the documentation: https://pandas.pydata.org/pandas-docs/stable/user_guide/indexing.html#returning-a-view-versus-a-copy\n",
            "\n",
            "/usr/local/lib/python3.7/dist-packages/ipykernel_launcher.py:14: SettingWithCopyWarning:\n",
            "\n",
            "\n",
            "A value is trying to be set on a copy of a slice from a DataFrame\n",
            "\n",
            "See the caveats in the documentation: https://pandas.pydata.org/pandas-docs/stable/user_guide/indexing.html#returning-a-view-versus-a-copy\n",
            "\n",
            "/usr/local/lib/python3.7/dist-packages/ipykernel_launcher.py:16: SettingWithCopyWarning:\n",
            "\n",
            "\n",
            "A value is trying to be set on a copy of a slice from a DataFrame\n",
            "\n",
            "See the caveats in the documentation: https://pandas.pydata.org/pandas-docs/stable/user_guide/indexing.html#returning-a-view-versus-a-copy\n",
            "\n",
            "/usr/local/lib/python3.7/dist-packages/ipykernel_launcher.py:17: SettingWithCopyWarning:\n",
            "\n",
            "\n",
            "A value is trying to be set on a copy of a slice from a DataFrame\n",
            "\n",
            "See the caveats in the documentation: https://pandas.pydata.org/pandas-docs/stable/user_guide/indexing.html#returning-a-view-versus-a-copy\n",
            "\n",
            "/usr/local/lib/python3.7/dist-packages/ipykernel_launcher.py:19: SettingWithCopyWarning:\n",
            "\n",
            "\n",
            "A value is trying to be set on a copy of a slice from a DataFrame\n",
            "\n",
            "See the caveats in the documentation: https://pandas.pydata.org/pandas-docs/stable/user_guide/indexing.html#returning-a-view-versus-a-copy\n",
            "\n",
            "/usr/local/lib/python3.7/dist-packages/ipykernel_launcher.py:20: SettingWithCopyWarning:\n",
            "\n",
            "\n",
            "A value is trying to be set on a copy of a slice from a DataFrame\n",
            "\n",
            "See the caveats in the documentation: https://pandas.pydata.org/pandas-docs/stable/user_guide/indexing.html#returning-a-view-versus-a-copy\n",
            "\n",
            "/usr/local/lib/python3.7/dist-packages/ipykernel_launcher.py:22: SettingWithCopyWarning:\n",
            "\n",
            "\n",
            "A value is trying to be set on a copy of a slice from a DataFrame\n",
            "\n",
            "See the caveats in the documentation: https://pandas.pydata.org/pandas-docs/stable/user_guide/indexing.html#returning-a-view-versus-a-copy\n",
            "\n",
            "/usr/local/lib/python3.7/dist-packages/ipykernel_launcher.py:23: SettingWithCopyWarning:\n",
            "\n",
            "\n",
            "A value is trying to be set on a copy of a slice from a DataFrame\n",
            "\n",
            "See the caveats in the documentation: https://pandas.pydata.org/pandas-docs/stable/user_guide/indexing.html#returning-a-view-versus-a-copy\n",
            "\n"
          ],
          "name": "stderr"
        }
      ]
    },
    {
      "cell_type": "code",
      "metadata": {
        "colab": {
          "base_uri": "https://localhost:8080/",
          "height": 224
        },
        "id": "0q8HVg-6T9dN",
        "outputId": "00ecd2d9-ede6-41f9-da6b-41f67711e0ae"
      },
      "source": [
        "clean_test_data.head()"
      ],
      "execution_count": 47,
      "outputs": [
        {
          "output_type": "execute_result",
          "data": {
            "text/html": [
              "<div>\n",
              "<style scoped>\n",
              "    .dataframe tbody tr th:only-of-type {\n",
              "        vertical-align: middle;\n",
              "    }\n",
              "\n",
              "    .dataframe tbody tr th {\n",
              "        vertical-align: top;\n",
              "    }\n",
              "\n",
              "    .dataframe thead th {\n",
              "        text-align: right;\n",
              "    }\n",
              "</style>\n",
              "<table border=\"1\" class=\"dataframe\">\n",
              "  <thead>\n",
              "    <tr style=\"text-align: right;\">\n",
              "      <th></th>\n",
              "      <th>UserID</th>\n",
              "      <th>Gender</th>\n",
              "      <th>NationalITy</th>\n",
              "      <th>PlaceofBirth</th>\n",
              "      <th>StageID</th>\n",
              "      <th>GradeID</th>\n",
              "      <th>SectionID</th>\n",
              "      <th>Topic</th>\n",
              "      <th>Semester</th>\n",
              "      <th>Relation</th>\n",
              "      <th>raisedhands</th>\n",
              "      <th>VisITedResources</th>\n",
              "      <th>AnnouncementsView</th>\n",
              "      <th>Discussion</th>\n",
              "      <th>ParentAnsweringSurvey</th>\n",
              "      <th>ParentschoolSatisfaction</th>\n",
              "      <th>StudentAbsenceDays</th>\n",
              "    </tr>\n",
              "  </thead>\n",
              "  <tbody>\n",
              "    <tr>\n",
              "      <th>0</th>\n",
              "      <td>406</td>\n",
              "      <td>1</td>\n",
              "      <td>Jordan</td>\n",
              "      <td>Jordan</td>\n",
              "      <td>3</td>\n",
              "      <td>G-07</td>\n",
              "      <td>1</td>\n",
              "      <td>Biology</td>\n",
              "      <td>1</td>\n",
              "      <td>2</td>\n",
              "      <td>2.0</td>\n",
              "      <td>9</td>\n",
              "      <td>10</td>\n",
              "      <td>1</td>\n",
              "      <td>0</td>\n",
              "      <td>0</td>\n",
              "      <td>1</td>\n",
              "    </tr>\n",
              "    <tr>\n",
              "      <th>1</th>\n",
              "      <td>426</td>\n",
              "      <td>1</td>\n",
              "      <td>Jordan</td>\n",
              "      <td>Jordan</td>\n",
              "      <td>3</td>\n",
              "      <td>G-08</td>\n",
              "      <td>1</td>\n",
              "      <td>Chemistry</td>\n",
              "      <td>1</td>\n",
              "      <td>2</td>\n",
              "      <td>NaN</td>\n",
              "      <td>80</td>\n",
              "      <td>62</td>\n",
              "      <td>11</td>\n",
              "      <td>1</td>\n",
              "      <td>1</td>\n",
              "      <td>1</td>\n",
              "    </tr>\n",
              "    <tr>\n",
              "      <th>2</th>\n",
              "      <td>348</td>\n",
              "      <td>1</td>\n",
              "      <td>Lybia</td>\n",
              "      <td>Lybia</td>\n",
              "      <td>1</td>\n",
              "      <td>G-02</td>\n",
              "      <td>2</td>\n",
              "      <td>French</td>\n",
              "      <td>1</td>\n",
              "      <td>2</td>\n",
              "      <td>20.0</td>\n",
              "      <td>3</td>\n",
              "      <td>9</td>\n",
              "      <td>3</td>\n",
              "      <td>0</td>\n",
              "      <td>1</td>\n",
              "      <td>1</td>\n",
              "    </tr>\n",
              "    <tr>\n",
              "      <th>3</th>\n",
              "      <td>316</td>\n",
              "      <td>1</td>\n",
              "      <td>Jordan</td>\n",
              "      <td>Jordan</td>\n",
              "      <td>1</td>\n",
              "      <td>G-02</td>\n",
              "      <td>1</td>\n",
              "      <td>French</td>\n",
              "      <td>1</td>\n",
              "      <td>2</td>\n",
              "      <td>60.0</td>\n",
              "      <td>92</td>\n",
              "      <td>83</td>\n",
              "      <td>23</td>\n",
              "      <td>1</td>\n",
              "      <td>1</td>\n",
              "      <td>0</td>\n",
              "    </tr>\n",
              "    <tr>\n",
              "      <th>4</th>\n",
              "      <td>293</td>\n",
              "      <td>0</td>\n",
              "      <td>Palestine</td>\n",
              "      <td>Palestine</td>\n",
              "      <td>1</td>\n",
              "      <td>G-04</td>\n",
              "      <td>1</td>\n",
              "      <td>Science</td>\n",
              "      <td>0</td>\n",
              "      <td>2</td>\n",
              "      <td>62.0</td>\n",
              "      <td>64</td>\n",
              "      <td>72</td>\n",
              "      <td>84</td>\n",
              "      <td>1</td>\n",
              "      <td>1</td>\n",
              "      <td>0</td>\n",
              "    </tr>\n",
              "  </tbody>\n",
              "</table>\n",
              "</div>"
            ],
            "text/plain": [
              "   UserID  Gender  ... ParentschoolSatisfaction StudentAbsenceDays\n",
              "0     406       1  ...                        0                  1\n",
              "1     426       1  ...                        1                  1\n",
              "2     348       1  ...                        1                  1\n",
              "3     316       1  ...                        1                  0\n",
              "4     293       0  ...                        1                  0\n",
              "\n",
              "[5 rows x 17 columns]"
            ]
          },
          "metadata": {
            "tags": []
          },
          "execution_count": 47
        }
      ]
    },
    {
      "cell_type": "code",
      "metadata": {
        "id": "qQ_O7ArFT-p0"
      },
      "source": [
        "selected_test_data = clean_test_data[['raisedhands', 'VisITedResources', 'AnnouncementsView', 'StudentAbsenceDays', 'Gender', 'ParentAnsweringSurvey', 'Discussion']]"
      ],
      "execution_count": 48,
      "outputs": []
    },
    {
      "cell_type": "code",
      "metadata": {
        "colab": {
          "base_uri": "https://localhost:8080/",
          "height": 439
        },
        "id": "O8T5pposUNjB",
        "outputId": "e1876f53-9568-480b-dd59-ff9a86c8f3c7"
      },
      "source": [
        "selected_test_data"
      ],
      "execution_count": 49,
      "outputs": [
        {
          "output_type": "execute_result",
          "data": {
            "text/html": [
              "<div>\n",
              "<style scoped>\n",
              "    .dataframe tbody tr th:only-of-type {\n",
              "        vertical-align: middle;\n",
              "    }\n",
              "\n",
              "    .dataframe tbody tr th {\n",
              "        vertical-align: top;\n",
              "    }\n",
              "\n",
              "    .dataframe thead th {\n",
              "        text-align: right;\n",
              "    }\n",
              "</style>\n",
              "<table border=\"1\" class=\"dataframe\">\n",
              "  <thead>\n",
              "    <tr style=\"text-align: right;\">\n",
              "      <th></th>\n",
              "      <th>raisedhands</th>\n",
              "      <th>VisITedResources</th>\n",
              "      <th>AnnouncementsView</th>\n",
              "      <th>StudentAbsenceDays</th>\n",
              "      <th>Gender</th>\n",
              "      <th>ParentAnsweringSurvey</th>\n",
              "      <th>Discussion</th>\n",
              "    </tr>\n",
              "  </thead>\n",
              "  <tbody>\n",
              "    <tr>\n",
              "      <th>0</th>\n",
              "      <td>2.0</td>\n",
              "      <td>9</td>\n",
              "      <td>10</td>\n",
              "      <td>1</td>\n",
              "      <td>1</td>\n",
              "      <td>0</td>\n",
              "      <td>1</td>\n",
              "    </tr>\n",
              "    <tr>\n",
              "      <th>1</th>\n",
              "      <td>NaN</td>\n",
              "      <td>80</td>\n",
              "      <td>62</td>\n",
              "      <td>1</td>\n",
              "      <td>1</td>\n",
              "      <td>1</td>\n",
              "      <td>11</td>\n",
              "    </tr>\n",
              "    <tr>\n",
              "      <th>2</th>\n",
              "      <td>20.0</td>\n",
              "      <td>3</td>\n",
              "      <td>9</td>\n",
              "      <td>1</td>\n",
              "      <td>1</td>\n",
              "      <td>0</td>\n",
              "      <td>3</td>\n",
              "    </tr>\n",
              "    <tr>\n",
              "      <th>3</th>\n",
              "      <td>60.0</td>\n",
              "      <td>92</td>\n",
              "      <td>83</td>\n",
              "      <td>0</td>\n",
              "      <td>1</td>\n",
              "      <td>1</td>\n",
              "      <td>23</td>\n",
              "    </tr>\n",
              "    <tr>\n",
              "      <th>4</th>\n",
              "      <td>62.0</td>\n",
              "      <td>64</td>\n",
              "      <td>72</td>\n",
              "      <td>0</td>\n",
              "      <td>0</td>\n",
              "      <td>1</td>\n",
              "      <td>84</td>\n",
              "    </tr>\n",
              "    <tr>\n",
              "      <th>...</th>\n",
              "      <td>...</td>\n",
              "      <td>...</td>\n",
              "      <td>...</td>\n",
              "      <td>...</td>\n",
              "      <td>...</td>\n",
              "      <td>...</td>\n",
              "      <td>...</td>\n",
              "    </tr>\n",
              "    <tr>\n",
              "      <th>91</th>\n",
              "      <td>70.0</td>\n",
              "      <td>98</td>\n",
              "      <td>54</td>\n",
              "      <td>0</td>\n",
              "      <td>1</td>\n",
              "      <td>1</td>\n",
              "      <td>72</td>\n",
              "    </tr>\n",
              "    <tr>\n",
              "      <th>92</th>\n",
              "      <td>10.0</td>\n",
              "      <td>15</td>\n",
              "      <td>10</td>\n",
              "      <td>1</td>\n",
              "      <td>1</td>\n",
              "      <td>0</td>\n",
              "      <td>21</td>\n",
              "    </tr>\n",
              "    <tr>\n",
              "      <th>93</th>\n",
              "      <td>12.0</td>\n",
              "      <td>10</td>\n",
              "      <td>20</td>\n",
              "      <td>0</td>\n",
              "      <td>1</td>\n",
              "      <td>0</td>\n",
              "      <td>16</td>\n",
              "    </tr>\n",
              "    <tr>\n",
              "      <th>94</th>\n",
              "      <td>81.0</td>\n",
              "      <td>82</td>\n",
              "      <td>69</td>\n",
              "      <td>1</td>\n",
              "      <td>1</td>\n",
              "      <td>1</td>\n",
              "      <td>13</td>\n",
              "    </tr>\n",
              "    <tr>\n",
              "      <th>95</th>\n",
              "      <td>19.0</td>\n",
              "      <td>20</td>\n",
              "      <td>16</td>\n",
              "      <td>0</td>\n",
              "      <td>1</td>\n",
              "      <td>0</td>\n",
              "      <td>50</td>\n",
              "    </tr>\n",
              "  </tbody>\n",
              "</table>\n",
              "<p>96 rows × 7 columns</p>\n",
              "</div>"
            ],
            "text/plain": [
              "    raisedhands  VisITedResources  ...  ParentAnsweringSurvey Discussion\n",
              "0           2.0                 9  ...                      0          1\n",
              "1           NaN                80  ...                      1         11\n",
              "2          20.0                 3  ...                      0          3\n",
              "3          60.0                92  ...                      1         23\n",
              "4          62.0                64  ...                      1         84\n",
              "..          ...               ...  ...                    ...        ...\n",
              "91         70.0                98  ...                      1         72\n",
              "92         10.0                15  ...                      0         21\n",
              "93         12.0                10  ...                      0         16\n",
              "94         81.0                82  ...                      1         13\n",
              "95         19.0                20  ...                      0         50\n",
              "\n",
              "[96 rows x 7 columns]"
            ]
          },
          "metadata": {
            "tags": []
          },
          "execution_count": 49
        }
      ]
    },
    {
      "cell_type": "code",
      "metadata": {
        "id": "7aLtlbzxUOr4"
      },
      "source": [
        "selected_test_data = selected_test_data.fillna(0)"
      ],
      "execution_count": 59,
      "outputs": []
    },
    {
      "cell_type": "code",
      "metadata": {
        "id": "zEJHcPNdUWxH"
      },
      "source": [
        "predictions = logistic_regression.predict(selected_test_data)"
      ],
      "execution_count": 64,
      "outputs": []
    },
    {
      "cell_type": "code",
      "metadata": {
        "id": "t06tyGj526lk"
      },
      "source": [
        "mapping_grades = {1: 'H', 2: 'M', 3: 'L'}\n",
        "result = [mapping_grades.get(prediction) for prediction in predictions]"
      ],
      "execution_count": 67,
      "outputs": []
    },
    {
      "cell_type": "code",
      "metadata": {
        "colab": {
          "base_uri": "https://localhost:8080/"
        },
        "id": "mAlisCsv35Kf",
        "outputId": "75d7f02c-36dc-44de-fc54-7c7bba517c27"
      },
      "source": [
        "len(result)"
      ],
      "execution_count": 68,
      "outputs": [
        {
          "output_type": "execute_result",
          "data": {
            "text/plain": [
              "96"
            ]
          },
          "metadata": {
            "tags": []
          },
          "execution_count": 68
        }
      ]
    },
    {
      "cell_type": "code",
      "metadata": {
        "colab": {
          "base_uri": "https://localhost:8080/",
          "height": 204
        },
        "id": "t-nuzWsp3-CF",
        "outputId": "a71b7a36-ad77-4878-eca9-d9cafebb36da"
      },
      "source": [
        "submission = pd.DataFrame({'UserID': test_data['UserID'], 'TotalGrade': result})\n",
        "submission.head()"
      ],
      "execution_count": 69,
      "outputs": [
        {
          "output_type": "execute_result",
          "data": {
            "text/html": [
              "<div>\n",
              "<style scoped>\n",
              "    .dataframe tbody tr th:only-of-type {\n",
              "        vertical-align: middle;\n",
              "    }\n",
              "\n",
              "    .dataframe tbody tr th {\n",
              "        vertical-align: top;\n",
              "    }\n",
              "\n",
              "    .dataframe thead th {\n",
              "        text-align: right;\n",
              "    }\n",
              "</style>\n",
              "<table border=\"1\" class=\"dataframe\">\n",
              "  <thead>\n",
              "    <tr style=\"text-align: right;\">\n",
              "      <th></th>\n",
              "      <th>UserID</th>\n",
              "      <th>TotalGrade</th>\n",
              "    </tr>\n",
              "  </thead>\n",
              "  <tbody>\n",
              "    <tr>\n",
              "      <th>0</th>\n",
              "      <td>406</td>\n",
              "      <td>L</td>\n",
              "    </tr>\n",
              "    <tr>\n",
              "      <th>1</th>\n",
              "      <td>426</td>\n",
              "      <td>M</td>\n",
              "    </tr>\n",
              "    <tr>\n",
              "      <th>2</th>\n",
              "      <td>348</td>\n",
              "      <td>L</td>\n",
              "    </tr>\n",
              "    <tr>\n",
              "      <th>3</th>\n",
              "      <td>316</td>\n",
              "      <td>H</td>\n",
              "    </tr>\n",
              "    <tr>\n",
              "      <th>4</th>\n",
              "      <td>293</td>\n",
              "      <td>H</td>\n",
              "    </tr>\n",
              "  </tbody>\n",
              "</table>\n",
              "</div>"
            ],
            "text/plain": [
              "   UserID TotalGrade\n",
              "0     406          L\n",
              "1     426          M\n",
              "2     348          L\n",
              "3     316          H\n",
              "4     293          H"
            ]
          },
          "metadata": {
            "tags": []
          },
          "execution_count": 69
        }
      ]
    },
    {
      "cell_type": "code",
      "metadata": {
        "colab": {
          "base_uri": "https://localhost:8080/",
          "height": 419
        },
        "id": "roIC-lUN5nfr",
        "outputId": "cc99e1d3-89bb-4d07-dae6-c0dfe453fa05"
      },
      "source": [
        "submission"
      ],
      "execution_count": 70,
      "outputs": [
        {
          "output_type": "execute_result",
          "data": {
            "text/html": [
              "<div>\n",
              "<style scoped>\n",
              "    .dataframe tbody tr th:only-of-type {\n",
              "        vertical-align: middle;\n",
              "    }\n",
              "\n",
              "    .dataframe tbody tr th {\n",
              "        vertical-align: top;\n",
              "    }\n",
              "\n",
              "    .dataframe thead th {\n",
              "        text-align: right;\n",
              "    }\n",
              "</style>\n",
              "<table border=\"1\" class=\"dataframe\">\n",
              "  <thead>\n",
              "    <tr style=\"text-align: right;\">\n",
              "      <th></th>\n",
              "      <th>UserID</th>\n",
              "      <th>TotalGrade</th>\n",
              "    </tr>\n",
              "  </thead>\n",
              "  <tbody>\n",
              "    <tr>\n",
              "      <th>0</th>\n",
              "      <td>406</td>\n",
              "      <td>L</td>\n",
              "    </tr>\n",
              "    <tr>\n",
              "      <th>1</th>\n",
              "      <td>426</td>\n",
              "      <td>M</td>\n",
              "    </tr>\n",
              "    <tr>\n",
              "      <th>2</th>\n",
              "      <td>348</td>\n",
              "      <td>L</td>\n",
              "    </tr>\n",
              "    <tr>\n",
              "      <th>3</th>\n",
              "      <td>316</td>\n",
              "      <td>H</td>\n",
              "    </tr>\n",
              "    <tr>\n",
              "      <th>4</th>\n",
              "      <td>293</td>\n",
              "      <td>H</td>\n",
              "    </tr>\n",
              "    <tr>\n",
              "      <th>...</th>\n",
              "      <td>...</td>\n",
              "      <td>...</td>\n",
              "    </tr>\n",
              "    <tr>\n",
              "      <th>91</th>\n",
              "      <td>395</td>\n",
              "      <td>H</td>\n",
              "    </tr>\n",
              "    <tr>\n",
              "      <th>92</th>\n",
              "      <td>326</td>\n",
              "      <td>L</td>\n",
              "    </tr>\n",
              "    <tr>\n",
              "      <th>93</th>\n",
              "      <td>128</td>\n",
              "      <td>L</td>\n",
              "    </tr>\n",
              "    <tr>\n",
              "      <th>94</th>\n",
              "      <td>427</td>\n",
              "      <td>M</td>\n",
              "    </tr>\n",
              "    <tr>\n",
              "      <th>95</th>\n",
              "      <td>41</td>\n",
              "      <td>M</td>\n",
              "    </tr>\n",
              "  </tbody>\n",
              "</table>\n",
              "<p>96 rows × 2 columns</p>\n",
              "</div>"
            ],
            "text/plain": [
              "    UserID TotalGrade\n",
              "0      406          L\n",
              "1      426          M\n",
              "2      348          L\n",
              "3      316          H\n",
              "4      293          H\n",
              "..     ...        ...\n",
              "91     395          H\n",
              "92     326          L\n",
              "93     128          L\n",
              "94     427          M\n",
              "95      41          M\n",
              "\n",
              "[96 rows x 2 columns]"
            ]
          },
          "metadata": {
            "tags": []
          },
          "execution_count": 70
        }
      ]
    },
    {
      "cell_type": "code",
      "metadata": {
        "colab": {
          "base_uri": "https://localhost:8080/",
          "height": 204
        },
        "id": "TexibTmJ5-sW",
        "outputId": "03c3eca0-f856-4499-a9dd-42ff45583bb1"
      },
      "source": [
        "sorted_submission = submission.sort_values([\"UserID\"], ascending=False)\n",
        "sorted_submission.head()"
      ],
      "execution_count": 71,
      "outputs": [
        {
          "output_type": "execute_result",
          "data": {
            "text/html": [
              "<div>\n",
              "<style scoped>\n",
              "    .dataframe tbody tr th:only-of-type {\n",
              "        vertical-align: middle;\n",
              "    }\n",
              "\n",
              "    .dataframe tbody tr th {\n",
              "        vertical-align: top;\n",
              "    }\n",
              "\n",
              "    .dataframe thead th {\n",
              "        text-align: right;\n",
              "    }\n",
              "</style>\n",
              "<table border=\"1\" class=\"dataframe\">\n",
              "  <thead>\n",
              "    <tr style=\"text-align: right;\">\n",
              "      <th></th>\n",
              "      <th>UserID</th>\n",
              "      <th>TotalGrade</th>\n",
              "    </tr>\n",
              "  </thead>\n",
              "  <tbody>\n",
              "    <tr>\n",
              "      <th>38</th>\n",
              "      <td>477</td>\n",
              "      <td>M</td>\n",
              "    </tr>\n",
              "    <tr>\n",
              "      <th>42</th>\n",
              "      <td>471</td>\n",
              "      <td>H</td>\n",
              "    </tr>\n",
              "    <tr>\n",
              "      <th>54</th>\n",
              "      <td>470</td>\n",
              "      <td>H</td>\n",
              "    </tr>\n",
              "    <tr>\n",
              "      <th>8</th>\n",
              "      <td>467</td>\n",
              "      <td>H</td>\n",
              "    </tr>\n",
              "    <tr>\n",
              "      <th>76</th>\n",
              "      <td>463</td>\n",
              "      <td>M</td>\n",
              "    </tr>\n",
              "  </tbody>\n",
              "</table>\n",
              "</div>"
            ],
            "text/plain": [
              "    UserID TotalGrade\n",
              "38     477          M\n",
              "42     471          H\n",
              "54     470          H\n",
              "8      467          H\n",
              "76     463          M"
            ]
          },
          "metadata": {
            "tags": []
          },
          "execution_count": 71
        }
      ]
    },
    {
      "cell_type": "code",
      "metadata": {
        "colab": {
          "base_uri": "https://localhost:8080/",
          "height": 419
        },
        "id": "23tUn1xB6QXy",
        "outputId": "0a993b3a-0daa-4569-e79e-90944aa601a2"
      },
      "source": [
        "sorted_submission"
      ],
      "execution_count": 72,
      "outputs": [
        {
          "output_type": "execute_result",
          "data": {
            "text/html": [
              "<div>\n",
              "<style scoped>\n",
              "    .dataframe tbody tr th:only-of-type {\n",
              "        vertical-align: middle;\n",
              "    }\n",
              "\n",
              "    .dataframe tbody tr th {\n",
              "        vertical-align: top;\n",
              "    }\n",
              "\n",
              "    .dataframe thead th {\n",
              "        text-align: right;\n",
              "    }\n",
              "</style>\n",
              "<table border=\"1\" class=\"dataframe\">\n",
              "  <thead>\n",
              "    <tr style=\"text-align: right;\">\n",
              "      <th></th>\n",
              "      <th>UserID</th>\n",
              "      <th>TotalGrade</th>\n",
              "    </tr>\n",
              "  </thead>\n",
              "  <tbody>\n",
              "    <tr>\n",
              "      <th>38</th>\n",
              "      <td>477</td>\n",
              "      <td>M</td>\n",
              "    </tr>\n",
              "    <tr>\n",
              "      <th>42</th>\n",
              "      <td>471</td>\n",
              "      <td>H</td>\n",
              "    </tr>\n",
              "    <tr>\n",
              "      <th>54</th>\n",
              "      <td>470</td>\n",
              "      <td>H</td>\n",
              "    </tr>\n",
              "    <tr>\n",
              "      <th>8</th>\n",
              "      <td>467</td>\n",
              "      <td>H</td>\n",
              "    </tr>\n",
              "    <tr>\n",
              "      <th>76</th>\n",
              "      <td>463</td>\n",
              "      <td>M</td>\n",
              "    </tr>\n",
              "    <tr>\n",
              "      <th>...</th>\n",
              "      <td>...</td>\n",
              "      <td>...</td>\n",
              "    </tr>\n",
              "    <tr>\n",
              "      <th>75</th>\n",
              "      <td>18</td>\n",
              "      <td>M</td>\n",
              "    </tr>\n",
              "    <tr>\n",
              "      <th>11</th>\n",
              "      <td>15</td>\n",
              "      <td>M</td>\n",
              "    </tr>\n",
              "    <tr>\n",
              "      <th>87</th>\n",
              "      <td>14</td>\n",
              "      <td>M</td>\n",
              "    </tr>\n",
              "    <tr>\n",
              "      <th>60</th>\n",
              "      <td>8</td>\n",
              "      <td>M</td>\n",
              "    </tr>\n",
              "    <tr>\n",
              "      <th>17</th>\n",
              "      <td>7</td>\n",
              "      <td>M</td>\n",
              "    </tr>\n",
              "  </tbody>\n",
              "</table>\n",
              "<p>96 rows × 2 columns</p>\n",
              "</div>"
            ],
            "text/plain": [
              "    UserID TotalGrade\n",
              "38     477          M\n",
              "42     471          H\n",
              "54     470          H\n",
              "8      467          H\n",
              "76     463          M\n",
              "..     ...        ...\n",
              "75      18          M\n",
              "11      15          M\n",
              "87      14          M\n",
              "60       8          M\n",
              "17       7          M\n",
              "\n",
              "[96 rows x 2 columns]"
            ]
          },
          "metadata": {
            "tags": []
          },
          "execution_count": 72
        }
      ]
    },
    {
      "cell_type": "code",
      "metadata": {
        "id": "gMV8m8ZP6RtQ"
      },
      "source": [
        "sorted_submission.to_csv('predictions.csv', index=False)"
      ],
      "execution_count": 73,
      "outputs": []
    },
    {
      "cell_type": "code",
      "metadata": {
        "id": "LPBwSKOj6f18"
      },
      "source": [
        ""
      ],
      "execution_count": null,
      "outputs": []
    }
  ]
}